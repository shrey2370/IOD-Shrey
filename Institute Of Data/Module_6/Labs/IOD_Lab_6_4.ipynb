version https://git-lfs.github.com/spec/v1
oid sha256:52dc5c8c2564dd10f4b42ff3db9ba2c0c63dc509ed4739cfe7aafc9f5a678aee
size 5412031
