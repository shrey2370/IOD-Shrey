version https://git-lfs.github.com/spec/v1
oid sha256:4d02a49354d04b87b11f5cde5819412714a7eb8a138f577fa428ac037aa9ac8a
size 34593
