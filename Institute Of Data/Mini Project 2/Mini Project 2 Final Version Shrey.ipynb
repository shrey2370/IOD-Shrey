version https://git-lfs.github.com/spec/v1
oid sha256:2f4f00b86fe8e3239d23cae3fd0446b97ea49236322e018bf6515632e8b1e7c7
size 487703
