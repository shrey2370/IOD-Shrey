version https://git-lfs.github.com/spec/v1
oid sha256:d22c47bb03935f2f052ccde19f8656ec582f64b2f0c406e39d889ec9949ebc01
size 323564
