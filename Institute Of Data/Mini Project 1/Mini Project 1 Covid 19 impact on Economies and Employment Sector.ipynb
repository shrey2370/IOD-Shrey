{
 "cells": [
  {
   "cell_type": "markdown",
   "metadata": {},
   "source": [
    "# Mini Project 1 Covid-19 Impact on Economies and Employment Sector"
   ]
  },
  {
   "cell_type": "markdown",
   "metadata": {},
   "source": [
    "Context: \n",
    "This template looks at the potential economy- and sector-specific impact of the COVID-19 outbreak. It provides an update to a version released in March 6, 2020. The scenarios and estimates are revised to reflect the escalating and broadening reach of the health crisis. The analysis calculates the overall impact for the developing Asian economies of Bangladesh; Brunei Darussalam; Bhutan; Fiji; Hong Kong, China; Indonesia; India; Kazakhstan; Kyrgyz Republic; Cambodia; Republic of Korea; Sri Lanka; Maldives; Mongolia; Malaysia; Nepal; Pakistan; Philippines; Singapore; Thailand; Taipei,China; and Viet Nam."
   ]
  },
  {
   "cell_type": "markdown",
   "metadata": {},
   "source": [
    "Business Question \n",
    "\n",
    "Are the developing Nations economies decreasing due to  Covid-19 impacting employment? \n"
   ]
  },
  {
   "cell_type": "code",
   "execution_count": 2,
   "metadata": {},
   "outputs": [],
   "source": [
    "#Here we import the libraries we will be using for this project.\n",
    "\n",
    "import pandas as pd\n",
    "import numpy as np\n",
    "import math\n",
    "import seaborn as sns\n",
    "import pandas as pd\n",
    "\n",
    "from scipy import stats\n",
    "from matplotlib import pyplot as plt\n",
    "\n",
    "%matplotlib inline"
   ]
  },
  {
   "cell_type": "code",
   "execution_count": 3,
   "metadata": {},
   "outputs": [],
   "source": [
    "#Here we load the data set and store in the variable covid_19_EI\n",
    "#We use the pandas library to read the data set\n",
    "\n",
    "covid_19_EI = pd.read_csv(\"COVID19EconomicImpact 10Mar2020.csv\")"
   ]
  },
  {
   "cell_type": "markdown",
   "metadata": {},
   "source": [
    "##  1 Undestanding the data"
   ]
  },
  {
   "cell_type": "code",
   "execution_count": 4,
   "metadata": {},
   "outputs": [
    {
     "name": "stdout",
     "output_type": "stream",
     "text": [
      "Numpy:  1.18.1\n",
      "Pandas:  1.0.1\n"
     ]
    }
   ],
   "source": [
    "print('Numpy: ', np.__version__)\n",
    "print('Pandas: ', pd.__version__)"
   ]
  },
  {
   "cell_type": "code",
   "execution_count": 9,
   "metadata": {},
   "outputs": [
    {
     "data": {
      "text/html": [
       "<div>\n",
       "<style scoped>\n",
       "    .dataframe tbody tr th:only-of-type {\n",
       "        vertical-align: middle;\n",
       "    }\n",
       "\n",
       "    .dataframe tbody tr th {\n",
       "        vertical-align: top;\n",
       "    }\n",
       "\n",
       "    .dataframe thead th {\n",
       "        text-align: right;\n",
       "    }\n",
       "</style>\n",
       "<table border=\"1\" class=\"dataframe\">\n",
       "  <thead>\n",
       "    <tr style=\"text-align: right;\">\n",
       "      <th></th>\n",
       "      <th>Economy</th>\n",
       "      <th>ISO Alpha-3 Country Code</th>\n",
       "      <th>ADB Country Code</th>\n",
       "      <th>Sector</th>\n",
       "      <th>2018 nominal gdp</th>\n",
       "      <th>Scenario</th>\n",
       "      <th>as % of total GDP</th>\n",
       "      <th>in $ Mn</th>\n",
       "      <th>Employment (in 000)</th>\n",
       "      <th>as % of sector GDP</th>\n",
       "      <th>as % of sector employment</th>\n",
       "    </tr>\n",
       "  </thead>\n",
       "  <tbody>\n",
       "    <tr>\n",
       "      <th>0</th>\n",
       "      <td>People's Republic of China</td>\n",
       "      <td>CHN</td>\n",
       "      <td>PRC</td>\n",
       "      <td>Agriculture, Mining and Quarrying</td>\n",
       "      <td>13608151.86</td>\n",
       "      <td>best case</td>\n",
       "      <td>-0.05</td>\n",
       "      <td>7438.37</td>\n",
       "      <td>1203.76</td>\n",
       "      <td>-0.40</td>\n",
       "      <td>-0.47</td>\n",
       "    </tr>\n",
       "    <tr>\n",
       "      <th>1</th>\n",
       "      <td>People's Republic of China</td>\n",
       "      <td>CHN</td>\n",
       "      <td>PRC</td>\n",
       "      <td>Business, Trade, Personal, and Public Services</td>\n",
       "      <td>13608151.86</td>\n",
       "      <td>best case</td>\n",
       "      <td>-0.12</td>\n",
       "      <td>16153.00</td>\n",
       "      <td>604.02</td>\n",
       "      <td>-0.29</td>\n",
       "      <td>-0.29</td>\n",
       "    </tr>\n",
       "    <tr>\n",
       "      <th>2</th>\n",
       "      <td>People's Republic of China</td>\n",
       "      <td>CHN</td>\n",
       "      <td>PRC</td>\n",
       "      <td>Hotel and restaurants and Other Personal Services</td>\n",
       "      <td>13608151.86</td>\n",
       "      <td>best case</td>\n",
       "      <td>-0.04</td>\n",
       "      <td>5974.23</td>\n",
       "      <td>1997.99</td>\n",
       "      <td>-0.87</td>\n",
       "      <td>-0.96</td>\n",
       "    </tr>\n",
       "    <tr>\n",
       "      <th>3</th>\n",
       "      <td>People's Republic of China</td>\n",
       "      <td>CHN</td>\n",
       "      <td>PRC</td>\n",
       "      <td>Light/Heavy Manufacturing, Utilities, and Cons...</td>\n",
       "      <td>13608151.86</td>\n",
       "      <td>best case</td>\n",
       "      <td>-0.07</td>\n",
       "      <td>9115.48</td>\n",
       "      <td>367.50</td>\n",
       "      <td>-0.19</td>\n",
       "      <td>-0.13</td>\n",
       "    </tr>\n",
       "    <tr>\n",
       "      <th>4</th>\n",
       "      <td>People's Republic of China</td>\n",
       "      <td>CHN</td>\n",
       "      <td>PRC</td>\n",
       "      <td>Transport services</td>\n",
       "      <td>13608151.86</td>\n",
       "      <td>best case</td>\n",
       "      <td>-0.04</td>\n",
       "      <td>5208.49</td>\n",
       "      <td>317.64</td>\n",
       "      <td>-0.87</td>\n",
       "      <td>-0.79</td>\n",
       "    </tr>\n",
       "    <tr>\n",
       "      <th>...</th>\n",
       "      <td>...</td>\n",
       "      <td>...</td>\n",
       "      <td>...</td>\n",
       "      <td>...</td>\n",
       "      <td>...</td>\n",
       "      <td>...</td>\n",
       "      <td>...</td>\n",
       "      <td>...</td>\n",
       "      <td>...</td>\n",
       "      <td>...</td>\n",
       "      <td>...</td>\n",
       "    </tr>\n",
       "    <tr>\n",
       "      <th>565</th>\n",
       "      <td>Lao People's Democratic Republic</td>\n",
       "      <td>LAO</td>\n",
       "      <td>LAO</td>\n",
       "      <td>Business, Trade, Personal, and Public Services</td>\n",
       "      <td>17,953.79</td>\n",
       "      <td>worse case</td>\n",
       "      <td>-0.08</td>\n",
       "      <td>13.58</td>\n",
       "      <td>2.13</td>\n",
       "      <td>-0.19</td>\n",
       "      <td>-0.20</td>\n",
       "    </tr>\n",
       "    <tr>\n",
       "      <th>566</th>\n",
       "      <td>Lao People's Democratic Republic</td>\n",
       "      <td>LAO</td>\n",
       "      <td>LAO</td>\n",
       "      <td>Hotel and restaurants and Other Personal Services</td>\n",
       "      <td>17,953.79</td>\n",
       "      <td>worse case</td>\n",
       "      <td>0.00</td>\n",
       "      <td>0.78</td>\n",
       "      <td>0.11</td>\n",
       "      <td>-0.09</td>\n",
       "      <td>-0.12</td>\n",
       "    </tr>\n",
       "    <tr>\n",
       "      <th>567</th>\n",
       "      <td>Lao People's Democratic Republic</td>\n",
       "      <td>LAO</td>\n",
       "      <td>LAO</td>\n",
       "      <td>Light/Heavy Manufacturing, Utilities, and Cons...</td>\n",
       "      <td>17,953.79</td>\n",
       "      <td>worse case</td>\n",
       "      <td>-0.05</td>\n",
       "      <td>8.88</td>\n",
       "      <td>3.22</td>\n",
       "      <td>-0.17</td>\n",
       "      <td>-0.49</td>\n",
       "    </tr>\n",
       "    <tr>\n",
       "      <th>568</th>\n",
       "      <td>Lao People's Democratic Republic</td>\n",
       "      <td>LAO</td>\n",
       "      <td>LAO</td>\n",
       "      <td>Transport services</td>\n",
       "      <td>17,953.79</td>\n",
       "      <td>worse case</td>\n",
       "      <td>-0.24</td>\n",
       "      <td>43.15</td>\n",
       "      <td>3.92</td>\n",
       "      <td>-15.54</td>\n",
       "      <td>-3.52</td>\n",
       "    </tr>\n",
       "    <tr>\n",
       "      <th>569</th>\n",
       "      <td>Lao People's Democratic Republic</td>\n",
       "      <td>LAO</td>\n",
       "      <td>LAO</td>\n",
       "      <td>_All</td>\n",
       "      <td>17,953.79</td>\n",
       "      <td>worse case</td>\n",
       "      <td>-0.43</td>\n",
       "      <td>76.52</td>\n",
       "      <td>12.77</td>\n",
       "      <td>-0.43</td>\n",
       "      <td>-0.32</td>\n",
       "    </tr>\n",
       "  </tbody>\n",
       "</table>\n",
       "<p>570 rows × 11 columns</p>\n",
       "</div>"
      ],
      "text/plain": [
       "                              Economy ISO Alpha-3 Country Code  \\\n",
       "0          People's Republic of China                      CHN   \n",
       "1          People's Republic of China                      CHN   \n",
       "2          People's Republic of China                      CHN   \n",
       "3          People's Republic of China                      CHN   \n",
       "4          People's Republic of China                      CHN   \n",
       "..                                ...                      ...   \n",
       "565  Lao People's Democratic Republic                      LAO   \n",
       "566  Lao People's Democratic Republic                      LAO   \n",
       "567  Lao People's Democratic Republic                      LAO   \n",
       "568  Lao People's Democratic Republic                      LAO   \n",
       "569  Lao People's Democratic Republic                      LAO   \n",
       "\n",
       "    ADB Country Code                                             Sector  \\\n",
       "0                PRC                  Agriculture, Mining and Quarrying   \n",
       "1                PRC     Business, Trade, Personal, and Public Services   \n",
       "2                PRC  Hotel and restaurants and Other Personal Services   \n",
       "3                PRC  Light/Heavy Manufacturing, Utilities, and Cons...   \n",
       "4                PRC                                 Transport services   \n",
       "..               ...                                                ...   \n",
       "565              LAO     Business, Trade, Personal, and Public Services   \n",
       "566              LAO  Hotel and restaurants and Other Personal Services   \n",
       "567              LAO  Light/Heavy Manufacturing, Utilities, and Cons...   \n",
       "568              LAO                                 Transport services   \n",
       "569              LAO                                               _All   \n",
       "\n",
       "    2018 nominal gdp    Scenario  as % of total GDP   in $ Mn  \\\n",
       "0        13608151.86   best case              -0.05   7438.37   \n",
       "1        13608151.86   best case              -0.12  16153.00   \n",
       "2        13608151.86   best case              -0.04   5974.23   \n",
       "3        13608151.86   best case              -0.07   9115.48   \n",
       "4        13608151.86   best case              -0.04   5208.49   \n",
       "..               ...         ...                ...       ...   \n",
       "565        17,953.79  worse case              -0.08     13.58   \n",
       "566        17,953.79  worse case               0.00      0.78   \n",
       "567        17,953.79  worse case              -0.05      8.88   \n",
       "568        17,953.79  worse case              -0.24     43.15   \n",
       "569        17,953.79  worse case              -0.43     76.52   \n",
       "\n",
       "     Employment (in 000)  as % of sector GDP  as % of sector employment  \n",
       "0                1203.76               -0.40                      -0.47  \n",
       "1                 604.02               -0.29                      -0.29  \n",
       "2                1997.99               -0.87                      -0.96  \n",
       "3                 367.50               -0.19                      -0.13  \n",
       "4                 317.64               -0.87                      -0.79  \n",
       "..                   ...                 ...                        ...  \n",
       "565                 2.13               -0.19                      -0.20  \n",
       "566                 0.11               -0.09                      -0.12  \n",
       "567                 3.22               -0.17                      -0.49  \n",
       "568                 3.92              -15.54                      -3.52  \n",
       "569                12.77               -0.43                      -0.32  \n",
       "\n",
       "[570 rows x 11 columns]"
      ]
     },
     "execution_count": 9,
     "metadata": {},
     "output_type": "execute_result"
    }
   ],
   "source": [
    "covid_19_EI"
   ]
  },
  {
   "cell_type": "code",
   "execution_count": 5,
   "metadata": {},
   "outputs": [
    {
     "name": "stdout",
     "output_type": "stream",
     "text": [
      "<class 'pandas.core.frame.DataFrame'>\n",
      "RangeIndex: 570 entries, 0 to 569\n",
      "Data columns (total 11 columns):\n",
      " #   Column                     Non-Null Count  Dtype  \n",
      "---  ------                     --------------  -----  \n",
      " 0   Economy                    570 non-null    object \n",
      " 1   ISO Alpha-3 Country Code   570 non-null    object \n",
      " 2   ADB Country Code           570 non-null    object \n",
      " 3   Sector                     570 non-null    object \n",
      " 4   2018 nominal gdp           570 non-null    object \n",
      " 5   Scenario                   570 non-null    object \n",
      " 6   as % of total GDP          570 non-null    float64\n",
      " 7   in $ Mn                    570 non-null    float64\n",
      " 8   Employment (in 000)        570 non-null    float64\n",
      " 9   as % of sector GDP         570 non-null    float64\n",
      " 10  as % of sector employment  570 non-null    float64\n",
      "dtypes: float64(5), object(6)\n",
      "memory usage: 49.1+ KB\n"
     ]
    }
   ],
   "source": [
    "covid_19_EI.info()"
   ]
  },
  {
   "cell_type": "code",
   "execution_count": 6,
   "metadata": {},
   "outputs": [
    {
     "data": {
      "text/html": [
       "<div>\n",
       "<style scoped>\n",
       "    .dataframe tbody tr th:only-of-type {\n",
       "        vertical-align: middle;\n",
       "    }\n",
       "\n",
       "    .dataframe tbody tr th {\n",
       "        vertical-align: top;\n",
       "    }\n",
       "\n",
       "    .dataframe thead th {\n",
       "        text-align: right;\n",
       "    }\n",
       "</style>\n",
       "<table border=\"1\" class=\"dataframe\">\n",
       "  <thead>\n",
       "    <tr style=\"text-align: right;\">\n",
       "      <th></th>\n",
       "      <th>Economy</th>\n",
       "      <th>ISO Alpha-3 Country Code</th>\n",
       "      <th>ADB Country Code</th>\n",
       "      <th>Sector</th>\n",
       "      <th>2018 nominal gdp</th>\n",
       "      <th>Scenario</th>\n",
       "      <th>as % of total GDP</th>\n",
       "      <th>in $ Mn</th>\n",
       "      <th>Employment (in 000)</th>\n",
       "      <th>as % of sector GDP</th>\n",
       "      <th>as % of sector employment</th>\n",
       "    </tr>\n",
       "  </thead>\n",
       "  <tbody>\n",
       "    <tr>\n",
       "      <th>0</th>\n",
       "      <td>People's Republic of China</td>\n",
       "      <td>CHN</td>\n",
       "      <td>PRC</td>\n",
       "      <td>Agriculture, Mining and Quarrying</td>\n",
       "      <td>13608151.86</td>\n",
       "      <td>best case</td>\n",
       "      <td>-0.05</td>\n",
       "      <td>7438.37</td>\n",
       "      <td>1203.76</td>\n",
       "      <td>-0.40</td>\n",
       "      <td>-0.47</td>\n",
       "    </tr>\n",
       "    <tr>\n",
       "      <th>1</th>\n",
       "      <td>People's Republic of China</td>\n",
       "      <td>CHN</td>\n",
       "      <td>PRC</td>\n",
       "      <td>Business, Trade, Personal, and Public Services</td>\n",
       "      <td>13608151.86</td>\n",
       "      <td>best case</td>\n",
       "      <td>-0.12</td>\n",
       "      <td>16153.00</td>\n",
       "      <td>604.02</td>\n",
       "      <td>-0.29</td>\n",
       "      <td>-0.29</td>\n",
       "    </tr>\n",
       "    <tr>\n",
       "      <th>2</th>\n",
       "      <td>People's Republic of China</td>\n",
       "      <td>CHN</td>\n",
       "      <td>PRC</td>\n",
       "      <td>Hotel and restaurants and Other Personal Services</td>\n",
       "      <td>13608151.86</td>\n",
       "      <td>best case</td>\n",
       "      <td>-0.04</td>\n",
       "      <td>5974.23</td>\n",
       "      <td>1997.99</td>\n",
       "      <td>-0.87</td>\n",
       "      <td>-0.96</td>\n",
       "    </tr>\n",
       "    <tr>\n",
       "      <th>3</th>\n",
       "      <td>People's Republic of China</td>\n",
       "      <td>CHN</td>\n",
       "      <td>PRC</td>\n",
       "      <td>Light/Heavy Manufacturing, Utilities, and Cons...</td>\n",
       "      <td>13608151.86</td>\n",
       "      <td>best case</td>\n",
       "      <td>-0.07</td>\n",
       "      <td>9115.48</td>\n",
       "      <td>367.50</td>\n",
       "      <td>-0.19</td>\n",
       "      <td>-0.13</td>\n",
       "    </tr>\n",
       "    <tr>\n",
       "      <th>4</th>\n",
       "      <td>People's Republic of China</td>\n",
       "      <td>CHN</td>\n",
       "      <td>PRC</td>\n",
       "      <td>Transport services</td>\n",
       "      <td>13608151.86</td>\n",
       "      <td>best case</td>\n",
       "      <td>-0.04</td>\n",
       "      <td>5208.49</td>\n",
       "      <td>317.64</td>\n",
       "      <td>-0.87</td>\n",
       "      <td>-0.79</td>\n",
       "    </tr>\n",
       "  </tbody>\n",
       "</table>\n",
       "</div>"
      ],
      "text/plain": [
       "                      Economy ISO Alpha-3 Country Code ADB Country Code  \\\n",
       "0  People's Republic of China                      CHN              PRC   \n",
       "1  People's Republic of China                      CHN              PRC   \n",
       "2  People's Republic of China                      CHN              PRC   \n",
       "3  People's Republic of China                      CHN              PRC   \n",
       "4  People's Republic of China                      CHN              PRC   \n",
       "\n",
       "                                              Sector 2018 nominal gdp  \\\n",
       "0                  Agriculture, Mining and Quarrying      13608151.86   \n",
       "1     Business, Trade, Personal, and Public Services      13608151.86   \n",
       "2  Hotel and restaurants and Other Personal Services      13608151.86   \n",
       "3  Light/Heavy Manufacturing, Utilities, and Cons...      13608151.86   \n",
       "4                                 Transport services      13608151.86   \n",
       "\n",
       "    Scenario  as % of total GDP   in $ Mn  Employment (in 000)  \\\n",
       "0  best case              -0.05   7438.37              1203.76   \n",
       "1  best case              -0.12  16153.00               604.02   \n",
       "2  best case              -0.04   5974.23              1997.99   \n",
       "3  best case              -0.07   9115.48               367.50   \n",
       "4  best case              -0.04   5208.49               317.64   \n",
       "\n",
       "   as % of sector GDP  as % of sector employment  \n",
       "0               -0.40                      -0.47  \n",
       "1               -0.29                      -0.29  \n",
       "2               -0.87                      -0.96  \n",
       "3               -0.19                      -0.13  \n",
       "4               -0.87                      -0.79  "
      ]
     },
     "execution_count": 6,
     "metadata": {},
     "output_type": "execute_result"
    }
   ],
   "source": [
    "#\n",
    "#We check the values in the data set and then can determine which columns to drop\n",
    "covid_19_EI.head()"
   ]
  },
  {
   "cell_type": "code",
   "execution_count": 12,
   "metadata": {},
   "outputs": [
    {
     "data": {
      "text/html": [
       "<div>\n",
       "<style scoped>\n",
       "    .dataframe tbody tr th:only-of-type {\n",
       "        vertical-align: middle;\n",
       "    }\n",
       "\n",
       "    .dataframe tbody tr th {\n",
       "        vertical-align: top;\n",
       "    }\n",
       "\n",
       "    .dataframe thead th {\n",
       "        text-align: right;\n",
       "    }\n",
       "</style>\n",
       "<table border=\"1\" class=\"dataframe\">\n",
       "  <thead>\n",
       "    <tr style=\"text-align: right;\">\n",
       "      <th></th>\n",
       "      <th>Economy</th>\n",
       "      <th>ISO Alpha-3 Country Code</th>\n",
       "      <th>ADB Country Code</th>\n",
       "      <th>Sector</th>\n",
       "      <th>2018 nominal gdp</th>\n",
       "      <th>Scenario</th>\n",
       "      <th>as % of total GDP</th>\n",
       "      <th>in $ Mn</th>\n",
       "      <th>Employment (in 000)</th>\n",
       "      <th>as % of sector GDP</th>\n",
       "      <th>as % of sector employment</th>\n",
       "    </tr>\n",
       "  </thead>\n",
       "  <tbody>\n",
       "    <tr>\n",
       "      <th>565</th>\n",
       "      <td>Lao People's Democratic Republic</td>\n",
       "      <td>LAO</td>\n",
       "      <td>LAO</td>\n",
       "      <td>Business, Trade, Personal, and Public Services</td>\n",
       "      <td>17,953.79</td>\n",
       "      <td>worse case</td>\n",
       "      <td>-0.08</td>\n",
       "      <td>13.58</td>\n",
       "      <td>2.13</td>\n",
       "      <td>-0.19</td>\n",
       "      <td>-0.20</td>\n",
       "    </tr>\n",
       "    <tr>\n",
       "      <th>566</th>\n",
       "      <td>Lao People's Democratic Republic</td>\n",
       "      <td>LAO</td>\n",
       "      <td>LAO</td>\n",
       "      <td>Hotel and restaurants and Other Personal Services</td>\n",
       "      <td>17,953.79</td>\n",
       "      <td>worse case</td>\n",
       "      <td>0.00</td>\n",
       "      <td>0.78</td>\n",
       "      <td>0.11</td>\n",
       "      <td>-0.09</td>\n",
       "      <td>-0.12</td>\n",
       "    </tr>\n",
       "    <tr>\n",
       "      <th>567</th>\n",
       "      <td>Lao People's Democratic Republic</td>\n",
       "      <td>LAO</td>\n",
       "      <td>LAO</td>\n",
       "      <td>Light/Heavy Manufacturing, Utilities, and Cons...</td>\n",
       "      <td>17,953.79</td>\n",
       "      <td>worse case</td>\n",
       "      <td>-0.05</td>\n",
       "      <td>8.88</td>\n",
       "      <td>3.22</td>\n",
       "      <td>-0.17</td>\n",
       "      <td>-0.49</td>\n",
       "    </tr>\n",
       "    <tr>\n",
       "      <th>568</th>\n",
       "      <td>Lao People's Democratic Republic</td>\n",
       "      <td>LAO</td>\n",
       "      <td>LAO</td>\n",
       "      <td>Transport services</td>\n",
       "      <td>17,953.79</td>\n",
       "      <td>worse case</td>\n",
       "      <td>-0.24</td>\n",
       "      <td>43.15</td>\n",
       "      <td>3.92</td>\n",
       "      <td>-15.54</td>\n",
       "      <td>-3.52</td>\n",
       "    </tr>\n",
       "    <tr>\n",
       "      <th>569</th>\n",
       "      <td>Lao People's Democratic Republic</td>\n",
       "      <td>LAO</td>\n",
       "      <td>LAO</td>\n",
       "      <td>_All</td>\n",
       "      <td>17,953.79</td>\n",
       "      <td>worse case</td>\n",
       "      <td>-0.43</td>\n",
       "      <td>76.52</td>\n",
       "      <td>12.77</td>\n",
       "      <td>-0.43</td>\n",
       "      <td>-0.32</td>\n",
       "    </tr>\n",
       "  </tbody>\n",
       "</table>\n",
       "</div>"
      ],
      "text/plain": [
       "                              Economy ISO Alpha-3 Country Code  \\\n",
       "565  Lao People's Democratic Republic                      LAO   \n",
       "566  Lao People's Democratic Republic                      LAO   \n",
       "567  Lao People's Democratic Republic                      LAO   \n",
       "568  Lao People's Democratic Republic                      LAO   \n",
       "569  Lao People's Democratic Republic                      LAO   \n",
       "\n",
       "    ADB Country Code                                             Sector  \\\n",
       "565              LAO     Business, Trade, Personal, and Public Services   \n",
       "566              LAO  Hotel and restaurants and Other Personal Services   \n",
       "567              LAO  Light/Heavy Manufacturing, Utilities, and Cons...   \n",
       "568              LAO                                 Transport services   \n",
       "569              LAO                                               _All   \n",
       "\n",
       "    2018 nominal gdp    Scenario  as % of total GDP  in $ Mn  \\\n",
       "565        17,953.79  worse case              -0.08    13.58   \n",
       "566        17,953.79  worse case               0.00     0.78   \n",
       "567        17,953.79  worse case              -0.05     8.88   \n",
       "568        17,953.79  worse case              -0.24    43.15   \n",
       "569        17,953.79  worse case              -0.43    76.52   \n",
       "\n",
       "     Employment (in 000)  as % of sector GDP  as % of sector employment  \n",
       "565                 2.13               -0.19                      -0.20  \n",
       "566                 0.11               -0.09                      -0.12  \n",
       "567                 3.22               -0.17                      -0.49  \n",
       "568                 3.92              -15.54                      -3.52  \n",
       "569                12.77               -0.43                      -0.32  "
      ]
     },
     "execution_count": 12,
     "metadata": {},
     "output_type": "execute_result"
    }
   ],
   "source": [
    "#\n",
    "#Here we check the last 5 entries of the data set\n",
    "covid_19_EI.tail()"
   ]
  },
  {
   "cell_type": "code",
   "execution_count": 8,
   "metadata": {},
   "outputs": [
    {
     "data": {
      "text/plain": [
       "(570, 11)"
      ]
     },
     "execution_count": 8,
     "metadata": {},
     "output_type": "execute_result"
    }
   ],
   "source": [
    "#Now we check the shape of the data\n",
    "covid_19_EI.shape\n"
   ]
  },
  {
   "cell_type": "code",
   "execution_count": 9,
   "metadata": {},
   "outputs": [],
   "source": [
    "#So from the shape we can identify that their are 570 rows and 11 columns"
   ]
  },
  {
   "cell_type": "code",
   "execution_count": 7,
   "metadata": {},
   "outputs": [
    {
     "data": {
      "text/html": [
       "<div>\n",
       "<style scoped>\n",
       "    .dataframe tbody tr th:only-of-type {\n",
       "        vertical-align: middle;\n",
       "    }\n",
       "\n",
       "    .dataframe tbody tr th {\n",
       "        vertical-align: top;\n",
       "    }\n",
       "\n",
       "    .dataframe thead th {\n",
       "        text-align: right;\n",
       "    }\n",
       "</style>\n",
       "<table border=\"1\" class=\"dataframe\">\n",
       "  <thead>\n",
       "    <tr style=\"text-align: right;\">\n",
       "      <th></th>\n",
       "      <th>as % of total GDP</th>\n",
       "      <th>in $ Mn</th>\n",
       "      <th>Employment (in 000)</th>\n",
       "      <th>as % of sector GDP</th>\n",
       "      <th>as % of sector employment</th>\n",
       "    </tr>\n",
       "  </thead>\n",
       "  <tbody>\n",
       "    <tr>\n",
       "      <th>count</th>\n",
       "      <td>570.000000</td>\n",
       "      <td>570.000000</td>\n",
       "      <td>570.000000</td>\n",
       "      <td>570.000000</td>\n",
       "      <td>570.000000</td>\n",
       "    </tr>\n",
       "    <tr>\n",
       "      <th>mean</th>\n",
       "      <td>-0.267175</td>\n",
       "      <td>2891.651456</td>\n",
       "      <td>264.441579</td>\n",
       "      <td>-1.463018</td>\n",
       "      <td>-1.391947</td>\n",
       "    </tr>\n",
       "    <tr>\n",
       "      <th>std</th>\n",
       "      <td>0.509052</td>\n",
       "      <td>16669.432379</td>\n",
       "      <td>1427.808618</td>\n",
       "      <td>2.793952</td>\n",
       "      <td>2.674746</td>\n",
       "    </tr>\n",
       "    <tr>\n",
       "      <th>min</th>\n",
       "      <td>-4.960000</td>\n",
       "      <td>0.020000</td>\n",
       "      <td>0.000000</td>\n",
       "      <td>-25.740000</td>\n",
       "      <td>-25.740000</td>\n",
       "    </tr>\n",
       "    <tr>\n",
       "      <th>25%</th>\n",
       "      <td>-0.260000</td>\n",
       "      <td>8.740000</td>\n",
       "      <td>0.695000</td>\n",
       "      <td>-1.535000</td>\n",
       "      <td>-1.530000</td>\n",
       "    </tr>\n",
       "    <tr>\n",
       "      <th>50%</th>\n",
       "      <td>-0.080000</td>\n",
       "      <td>100.570000</td>\n",
       "      <td>7.195000</td>\n",
       "      <td>-0.465000</td>\n",
       "      <td>-0.470000</td>\n",
       "    </tr>\n",
       "    <tr>\n",
       "      <th>75%</th>\n",
       "      <td>-0.020000</td>\n",
       "      <td>679.427500</td>\n",
       "      <td>45.290000</td>\n",
       "      <td>-0.090000</td>\n",
       "      <td>-0.080000</td>\n",
       "    </tr>\n",
       "    <tr>\n",
       "      <th>max</th>\n",
       "      <td>0.000000</td>\n",
       "      <td>236925.790000</td>\n",
       "      <td>19634.340000</td>\n",
       "      <td>0.000000</td>\n",
       "      <td>0.000000</td>\n",
       "    </tr>\n",
       "  </tbody>\n",
       "</table>\n",
       "</div>"
      ],
      "text/plain": [
       "       as % of total GDP        in $ Mn  Employment (in 000)  \\\n",
       "count         570.000000     570.000000           570.000000   \n",
       "mean           -0.267175    2891.651456           264.441579   \n",
       "std             0.509052   16669.432379          1427.808618   \n",
       "min            -4.960000       0.020000             0.000000   \n",
       "25%            -0.260000       8.740000             0.695000   \n",
       "50%            -0.080000     100.570000             7.195000   \n",
       "75%            -0.020000     679.427500            45.290000   \n",
       "max             0.000000  236925.790000         19634.340000   \n",
       "\n",
       "       as % of sector GDP  as % of sector employment  \n",
       "count          570.000000                 570.000000  \n",
       "mean            -1.463018                  -1.391947  \n",
       "std              2.793952                   2.674746  \n",
       "min            -25.740000                 -25.740000  \n",
       "25%             -1.535000                  -1.530000  \n",
       "50%             -0.465000                  -0.470000  \n",
       "75%             -0.090000                  -0.080000  \n",
       "max              0.000000                   0.000000  "
      ]
     },
     "execution_count": 7,
     "metadata": {},
     "output_type": "execute_result"
    }
   ],
   "source": [
    "covid_19_EI.describe()"
   ]
  },
  {
   "cell_type": "code",
   "execution_count": 11,
   "metadata": {},
   "outputs": [
    {
     "data": {
      "text/plain": [
       "Index(['Economy', 'ISO Alpha-3 Country Code', 'ADB Country Code', 'Sector',\n",
       "       '2018 nominal gdp', 'Scenario', 'as % of total GDP', 'in $ Mn',\n",
       "       'Employment (in 000)', 'as % of sector GDP',\n",
       "       'as % of sector employment'],\n",
       "      dtype='object')"
      ]
     },
     "execution_count": 11,
     "metadata": {},
     "output_type": "execute_result"
    }
   ],
   "source": [
    "\n",
    "covid_19_EI.columns"
   ]
  },
  {
   "cell_type": "code",
   "execution_count": 13,
   "metadata": {},
   "outputs": [
    {
     "data": {
      "text/plain": [
       "Economy                       24\n",
       "ISO Alpha-3 Country Code      24\n",
       "ADB Country Code              24\n",
       "Sector                         6\n",
       "2018 nominal gdp              24\n",
       "Scenario                       4\n",
       "as % of total GDP            108\n",
       "in $ Mn                      555\n",
       "Employment (in 000)          455\n",
       "as % of sector GDP           246\n",
       "as % of sector employment    227\n",
       "dtype: int64"
      ]
     },
     "execution_count": 13,
     "metadata": {},
     "output_type": "execute_result"
    }
   ],
   "source": [
    "covid_19_EI.nunique()\n",
    "#Here we can observe the unique values in each column for example 24 unique values for Economy\n",
    "# and 4 values for scenario\n"
   ]
  },
  {
   "cell_type": "code",
   "execution_count": 15,
   "metadata": {},
   "outputs": [
    {
     "data": {
      "text/plain": [
       "array(['best case', 'moderate case', 'worse case',\n",
       "       'hypothetical worst case'], dtype=object)"
      ]
     },
     "execution_count": 15,
     "metadata": {},
     "output_type": "execute_result"
    }
   ],
   "source": [
    "#To check a specific value for a column we can use this method\n",
    "covid_19_EI['Scenario'].unique()\n",
    "# We can observe below ordinal categorical values"
   ]
  },
  {
   "cell_type": "markdown",
   "metadata": {},
   "source": [
    "## Cleaning the data"
   ]
  },
  {
   "cell_type": "code",
   "execution_count": 8,
   "metadata": {},
   "outputs": [
    {
     "data": {
      "text/plain": [
       "Economy                      0\n",
       "ISO Alpha-3 Country Code     0\n",
       "ADB Country Code             0\n",
       "Sector                       0\n",
       "2018 nominal gdp             0\n",
       "Scenario                     0\n",
       "as % of total GDP            0\n",
       "in $ Mn                      0\n",
       "Employment (in 000)          0\n",
       "as % of sector GDP           0\n",
       "as % of sector employment    0\n",
       "dtype: int64"
      ]
     },
     "execution_count": 8,
     "metadata": {},
     "output_type": "execute_result"
    }
   ],
   "source": [
    "covid_19_EI.isnull().sum()"
   ]
  },
  {
   "cell_type": "code",
   "execution_count": 17,
   "metadata": {},
   "outputs": [],
   "source": [
    "#In this scenario  we have 0 null values so we don't have to worry about \n",
    "#dropping any column just because their is no value or# replacing it with another values\n",
    "#but in some cases in some data sets although this data set is large in some data sets their we can choose to replace\n",
    "#or drop columns . but in this data set we don't need to do it."
   ]
  },
  {
   "cell_type": "code",
   "execution_count": 18,
   "metadata": {},
   "outputs": [],
   "source": [
    "#Next we will go on to drop redundant data which will not affect our performance "
   ]
  },
  {
   "cell_type": "code",
   "execution_count": 9,
   "metadata": {},
   "outputs": [],
   "source": [
    "# We drop this column as it is similar to ADB country code and it is redundant so we drop this column.\n",
    "covid_Eco =  covid_19_EI.drop(['ISO Alpha-3 Country Code'], axis=1)\n",
    "\n"
   ]
  },
  {
   "cell_type": "code",
   "execution_count": 10,
   "metadata": {},
   "outputs": [
    {
     "data": {
      "text/html": [
       "<div>\n",
       "<style scoped>\n",
       "    .dataframe tbody tr th:only-of-type {\n",
       "        vertical-align: middle;\n",
       "    }\n",
       "\n",
       "    .dataframe tbody tr th {\n",
       "        vertical-align: top;\n",
       "    }\n",
       "\n",
       "    .dataframe thead th {\n",
       "        text-align: right;\n",
       "    }\n",
       "</style>\n",
       "<table border=\"1\" class=\"dataframe\">\n",
       "  <thead>\n",
       "    <tr style=\"text-align: right;\">\n",
       "      <th></th>\n",
       "      <th>Economy</th>\n",
       "      <th>ADB Country Code</th>\n",
       "      <th>Sector</th>\n",
       "      <th>2018 nominal gdp</th>\n",
       "      <th>Scenario</th>\n",
       "      <th>as % of total GDP</th>\n",
       "      <th>in $ Mn</th>\n",
       "      <th>Employment (in 000)</th>\n",
       "      <th>as % of sector GDP</th>\n",
       "      <th>as % of sector employment</th>\n",
       "    </tr>\n",
       "  </thead>\n",
       "  <tbody>\n",
       "    <tr>\n",
       "      <th>0</th>\n",
       "      <td>People's Republic of China</td>\n",
       "      <td>PRC</td>\n",
       "      <td>Agriculture, Mining and Quarrying</td>\n",
       "      <td>13608151.86</td>\n",
       "      <td>best case</td>\n",
       "      <td>-0.05</td>\n",
       "      <td>7438.37</td>\n",
       "      <td>1203.76</td>\n",
       "      <td>-0.40</td>\n",
       "      <td>-0.47</td>\n",
       "    </tr>\n",
       "    <tr>\n",
       "      <th>1</th>\n",
       "      <td>People's Republic of China</td>\n",
       "      <td>PRC</td>\n",
       "      <td>Business, Trade, Personal, and Public Services</td>\n",
       "      <td>13608151.86</td>\n",
       "      <td>best case</td>\n",
       "      <td>-0.12</td>\n",
       "      <td>16153.00</td>\n",
       "      <td>604.02</td>\n",
       "      <td>-0.29</td>\n",
       "      <td>-0.29</td>\n",
       "    </tr>\n",
       "    <tr>\n",
       "      <th>2</th>\n",
       "      <td>People's Republic of China</td>\n",
       "      <td>PRC</td>\n",
       "      <td>Hotel and restaurants and Other Personal Services</td>\n",
       "      <td>13608151.86</td>\n",
       "      <td>best case</td>\n",
       "      <td>-0.04</td>\n",
       "      <td>5974.23</td>\n",
       "      <td>1997.99</td>\n",
       "      <td>-0.87</td>\n",
       "      <td>-0.96</td>\n",
       "    </tr>\n",
       "    <tr>\n",
       "      <th>3</th>\n",
       "      <td>People's Republic of China</td>\n",
       "      <td>PRC</td>\n",
       "      <td>Light/Heavy Manufacturing, Utilities, and Cons...</td>\n",
       "      <td>13608151.86</td>\n",
       "      <td>best case</td>\n",
       "      <td>-0.07</td>\n",
       "      <td>9115.48</td>\n",
       "      <td>367.50</td>\n",
       "      <td>-0.19</td>\n",
       "      <td>-0.13</td>\n",
       "    </tr>\n",
       "    <tr>\n",
       "      <th>4</th>\n",
       "      <td>People's Republic of China</td>\n",
       "      <td>PRC</td>\n",
       "      <td>Transport services</td>\n",
       "      <td>13608151.86</td>\n",
       "      <td>best case</td>\n",
       "      <td>-0.04</td>\n",
       "      <td>5208.49</td>\n",
       "      <td>317.64</td>\n",
       "      <td>-0.87</td>\n",
       "      <td>-0.79</td>\n",
       "    </tr>\n",
       "  </tbody>\n",
       "</table>\n",
       "</div>"
      ],
      "text/plain": [
       "                      Economy ADB Country Code  \\\n",
       "0  People's Republic of China              PRC   \n",
       "1  People's Republic of China              PRC   \n",
       "2  People's Republic of China              PRC   \n",
       "3  People's Republic of China              PRC   \n",
       "4  People's Republic of China              PRC   \n",
       "\n",
       "                                              Sector 2018 nominal gdp  \\\n",
       "0                  Agriculture, Mining and Quarrying      13608151.86   \n",
       "1     Business, Trade, Personal, and Public Services      13608151.86   \n",
       "2  Hotel and restaurants and Other Personal Services      13608151.86   \n",
       "3  Light/Heavy Manufacturing, Utilities, and Cons...      13608151.86   \n",
       "4                                 Transport services      13608151.86   \n",
       "\n",
       "    Scenario  as % of total GDP   in $ Mn  Employment (in 000)  \\\n",
       "0  best case              -0.05   7438.37              1203.76   \n",
       "1  best case              -0.12  16153.00               604.02   \n",
       "2  best case              -0.04   5974.23              1997.99   \n",
       "3  best case              -0.07   9115.48               367.50   \n",
       "4  best case              -0.04   5208.49               317.64   \n",
       "\n",
       "   as % of sector GDP  as % of sector employment  \n",
       "0               -0.40                      -0.47  \n",
       "1               -0.29                      -0.29  \n",
       "2               -0.87                      -0.96  \n",
       "3               -0.19                      -0.13  \n",
       "4               -0.87                      -0.79  "
      ]
     },
     "execution_count": 10,
     "metadata": {},
     "output_type": "execute_result"
    }
   ],
   "source": [
    "#We can check that we have dropped the ISO code column\n",
    "covid_Eco.head()"
   ]
  },
  {
   "cell_type": "markdown",
   "metadata": {},
   "source": [
    "## Analyse the relationships"
   ]
  },
  {
   "cell_type": "code",
   "execution_count": null,
   "metadata": {},
   "outputs": [],
   "source": []
  },
  {
   "cell_type": "code",
   "execution_count": 21,
   "metadata": {},
   "outputs": [
    {
     "data": {
      "text/html": [
       "<div>\n",
       "<style scoped>\n",
       "    .dataframe tbody tr th:only-of-type {\n",
       "        vertical-align: middle;\n",
       "    }\n",
       "\n",
       "    .dataframe tbody tr th {\n",
       "        vertical-align: top;\n",
       "    }\n",
       "\n",
       "    .dataframe thead th {\n",
       "        text-align: right;\n",
       "    }\n",
       "</style>\n",
       "<table border=\"1\" class=\"dataframe\">\n",
       "  <thead>\n",
       "    <tr style=\"text-align: right;\">\n",
       "      <th></th>\n",
       "      <th>as % of total GDP</th>\n",
       "      <th>in $ Mn</th>\n",
       "      <th>Employment (in 000)</th>\n",
       "      <th>as % of sector GDP</th>\n",
       "      <th>as % of sector employment</th>\n",
       "    </tr>\n",
       "  </thead>\n",
       "  <tbody>\n",
       "    <tr>\n",
       "      <th>as % of total GDP</th>\n",
       "      <td>1.000000</td>\n",
       "      <td>-0.221473</td>\n",
       "      <td>-0.206267</td>\n",
       "      <td>0.346945</td>\n",
       "      <td>0.353065</td>\n",
       "    </tr>\n",
       "    <tr>\n",
       "      <th>in $ Mn</th>\n",
       "      <td>-0.221473</td>\n",
       "      <td>1.000000</td>\n",
       "      <td>0.928494</td>\n",
       "      <td>-0.013257</td>\n",
       "      <td>-0.024659</td>\n",
       "    </tr>\n",
       "    <tr>\n",
       "      <th>Employment (in 000)</th>\n",
       "      <td>-0.206267</td>\n",
       "      <td>0.928494</td>\n",
       "      <td>1.000000</td>\n",
       "      <td>-0.013748</td>\n",
       "      <td>-0.026853</td>\n",
       "    </tr>\n",
       "    <tr>\n",
       "      <th>as % of sector GDP</th>\n",
       "      <td>0.346945</td>\n",
       "      <td>-0.013257</td>\n",
       "      <td>-0.013748</td>\n",
       "      <td>1.000000</td>\n",
       "      <td>0.961672</td>\n",
       "    </tr>\n",
       "    <tr>\n",
       "      <th>as % of sector employment</th>\n",
       "      <td>0.353065</td>\n",
       "      <td>-0.024659</td>\n",
       "      <td>-0.026853</td>\n",
       "      <td>0.961672</td>\n",
       "      <td>1.000000</td>\n",
       "    </tr>\n",
       "  </tbody>\n",
       "</table>\n",
       "</div>"
      ],
      "text/plain": [
       "                           as % of total GDP   in $ Mn  Employment (in 000)  \\\n",
       "as % of total GDP                   1.000000 -0.221473            -0.206267   \n",
       "in $ Mn                            -0.221473  1.000000             0.928494   \n",
       "Employment (in 000)                -0.206267  0.928494             1.000000   \n",
       "as % of sector GDP                  0.346945 -0.013257            -0.013748   \n",
       "as % of sector employment           0.353065 -0.024659            -0.026853   \n",
       "\n",
       "                           as % of sector GDP  as % of sector employment  \n",
       "as % of total GDP                    0.346945                   0.353065  \n",
       "in $ Mn                             -0.013257                  -0.024659  \n",
       "Employment (in 000)                 -0.013748                  -0.026853  \n",
       "as % of sector GDP                   1.000000                   0.961672  \n",
       "as % of sector employment            0.961672                   1.000000  "
      ]
     },
     "execution_count": 21,
     "metadata": {},
     "output_type": "execute_result"
    }
   ],
   "source": [
    "corelation = covid_Eco.corr()\n",
    "corelation"
   ]
  },
  {
   "cell_type": "code",
   "execution_count": 22,
   "metadata": {},
   "outputs": [
    {
     "data": {
      "text/plain": [
       "<matplotlib.axes._subplots.AxesSubplot at 0x21055995c88>"
      ]
     },
     "execution_count": 22,
     "metadata": {},
     "output_type": "execute_result"
    },
    {
     "data": {
      "image/png": "[encoded data removed]",
      "text/plain": [
       "<Figure size 432x288 with 2 Axes>"
      ]
     },
     "metadata": {
      "needs_background": "light"
     },
     "output_type": "display_data"
    }
   ],
   "source": [
    "sns.heatmap(corelation, xticklabels=corelation.columns, yticklabels=corelation.columns, annot=True)"
   ]
  },
  {
   "cell_type": "code",
   "execution_count": 35,
   "metadata": {},
   "outputs": [
    {
     "data": {
      "text/plain": [
       "<seaborn.axisgrid.PairGrid at 0x276dce9c648>"
      ]
     },
     "execution_count": 35,
     "metadata": {},
     "output_type": "execute_result"
    },
    {
     "data": {
      "image/png": "[encoded data removed]",
      "text/plain": [
       "<Figure size 900x900 with 30 Axes>"
      ]
     },
     "metadata": {
      "needs_background": "light"
     },
     "output_type": "display_data"
    }
   ],
   "source": [
    "sns.pairplot(covid_Eco)"
   ]
  },
  {
   "cell_type": "code",
   "execution_count": 23,
   "metadata": {
    "scrolled": true
   },
   "outputs": [
    {
     "data": {
      "image/png": "[encoded data removed]",
      "text/plain": [
       "<Figure size 1476x1476 with 1 Axes>"
      ]
     },
     "metadata": {
      "needs_background": "light"
     },
     "output_type": "display_data"
    }
   ],
   "source": [
    "sns.relplot(x='ADB Country Code', y='Employment (in 000)', hue='Scenario', data=covid_Eco)\n",
    "plt.tight_layout()\n",
    "fig = plt.gcf()\n",
    "fig.set_size_inches(20.5, 20.5)\n",
    "fig.savefig('test2png.png', dpi=200)\n",
    "\n"
   ]
  },
  {
   "cell_type": "code",
   "execution_count": 24,
   "metadata": {},
   "outputs": [],
   "source": [
    "#\n",
    "#\n",
    "#From the above we can observe that their is decline in the economy as their is lesseser employment. Their is a higher proportion\n",
    "#of decline in Economy of the countries."
   ]
  },
  {
   "cell_type": "code",
   "execution_count": 25,
   "metadata": {},
   "outputs": [
    {
     "data": {
      "text/plain": [
       "<matplotlib.axes._subplots.AxesSubplot at 0x21056171a08>"
      ]
     },
     "execution_count": 25,
     "metadata": {},
     "output_type": "execute_result"
    },
    {
     "data": {
      "image/png": "[encoded data removed]",
      "text/plain": [
       "<Figure size 432x288 with 1 Axes>"
      ]
     },
     "metadata": {
      "needs_background": "light"
     },
     "output_type": "display_data"
    }
   ],
   "source": [
    "sns.distplot(covid_Eco['Employment (in 000)'], bins=5)"
   ]
  },
  {
   "cell_type": "code",
   "execution_count": 83,
   "metadata": {},
   "outputs": [
    {
     "data": {
      "text/plain": [
       "Index(['Economy', 'ADB Country Code', 'Sector', '2018 nominal gdp', 'Scenario',\n",
       "       'as % of total GDP', 'in $ Mn', 'Employment (in 000)',\n",
       "       'as % of sector GDP', 'as % of sector employment'],\n",
       "      dtype='object')"
      ]
     },
     "execution_count": 83,
     "metadata": {},
     "output_type": "execute_result"
    },
    {
     "data": {
      "image/png": "[encoded data removed]",
      "text/plain": [
       "<Figure size 432x288 with 1 Axes>"
      ]
     },
     "metadata": {
      "needs_background": "light"
     },
     "output_type": "display_data"
    }
   ],
   "source": [
    "sns.distplot(covid_Eco['as % of sector GDP'])\n",
    "\n",
    "covid_Eco.columns\n",
    "\n"
   ]
  },
  {
   "cell_type": "code",
   "execution_count": 26,
   "metadata": {},
   "outputs": [
    {
     "data": {
      "text/plain": [
       "<matplotlib.axes._subplots.AxesSubplot at 0x210569db4c8>"
      ]
     },
     "execution_count": 26,
     "metadata": {},
     "output_type": "execute_result"
    },
    {
     "data": {
      "image/png": "[encoded data removed]",
      "text/plain": [
       "<Figure size 432x288 with 1 Axes>"
      ]
     },
     "metadata": {
      "needs_background": "light"
     },
     "output_type": "display_data"
    }
   ],
   "source": [
    "sns.distplot(covid_Eco['in $ Mn'] ,bins=19)\n"
   ]
  },
  {
   "cell_type": "code",
   "execution_count": 117,
   "metadata": {},
   "outputs": [
    {
     "data": {
      "image/png": "[encoded data removed]",
      "text/plain": [
       "<Figure size 1440x1440 with 1 Axes>"
      ]
     },
     "metadata": {
      "needs_background": "light"
     },
     "output_type": "display_data"
    }
   ],
   "source": [
    "plt.scatter(covid_Eco['ADB Country Code'], covid_Eco['in $ Mn'])\n",
    "plt.tight_layout()\n",
    "fig = plt.gcf()\n",
    "fig.set_size_inches(20, 20)\n",
    "fig.savefig('test2png.png', dpi=500)"
   ]
  },
  {
   "cell_type": "code",
   "execution_count": 118,
   "metadata": {},
   "outputs": [
    {
     "data": {
      "image/png": "[encoded data removed]",
      "text/plain": [
       "<Figure size 1440x1440 with 1 Axes>"
      ]
     },
     "metadata": {
      "needs_background": "light"
     },
     "output_type": "display_data"
    }
   ],
   "source": [
    "plt.scatter(covid_Eco['ADB Country Code'], covid_Eco['Employment (in 000)'])\n",
    "plt.tight_layout()\n",
    "fig = plt.gcf()\n",
    "fig.set_size_inches(20, 20)\n",
    "fig.savefig('test2png.png', dpi=500)"
   ]
  },
  {
   "cell_type": "code",
   "execution_count": null,
   "metadata": {},
   "outputs": [],
   "source": [
    "## "
   ]
  },
  {
   "cell_type": "markdown",
   "metadata": {},
   "source": [
    "## Data Profiling"
   ]
  },
  {
   "cell_type": "markdown",
   "metadata": {},
   "source": [
    "\n",
    "### Counts\n",
    "\n",
    "When there are categorical variables in a dataset we will want to know how many possible values there are in each column. (Nb. If the dataset is a sample of a larger one, our sample may not capture all possible values of every categorical.)\n"
   ]
  },
  {
   "cell_type": "markdown",
   "metadata": {},
   "source": [
    "How many (different) Economies are their and employment sectors?"
   ]
  },
  {
   "cell_type": "code",
   "execution_count": 27,
   "metadata": {},
   "outputs": [
    {
     "data": {
      "text/plain": [
       "Philippines                         24\n",
       "Kazakhstan                          24\n",
       "Taipei,China                        24\n",
       "Bangladesh                          24\n",
       "Viet Nam                            24\n",
       "Cambodia                            24\n",
       "Hong Kong, China                    24\n",
       "Maldives                            24\n",
       "Republic of Korea                   24\n",
       "Indonesia                           24\n",
       "Thailand                            24\n",
       "Kyrgyz Republic                     24\n",
       "Sri Lanka                           24\n",
       "Malaysia                            24\n",
       "Mongolia                            24\n",
       "Bhutan                              24\n",
       "Pakistan                            24\n",
       "Singapore                           24\n",
       "Fiji                                24\n",
       "People's Republic of China          24\n",
       "Brunei Darussalam                   24\n",
       "Nepal                               24\n",
       "India                               24\n",
       "Lao People's Democratic Republic    18\n",
       "Name: Economy, dtype: int64"
      ]
     },
     "execution_count": 27,
     "metadata": {},
     "output_type": "execute_result"
    }
   ],
   "source": [
    "#ANSWER\n",
    "covid_Eco['Economy'].value_counts()"
   ]
  },
  {
   "cell_type": "code",
   "execution_count": 28,
   "metadata": {},
   "outputs": [
    {
     "data": {
      "text/plain": [
       "Agriculture, Mining and Quarrying                         95\n",
       "_All                                                      95\n",
       "Business, Trade, Personal, and Public Services            95\n",
       "Transport services                                        95\n",
       "Light/Heavy Manufacturing, Utilities, and Construction    95\n",
       "Hotel and restaurants and Other Personal Services         95\n",
       "Name: Sector, dtype: int64"
      ]
     },
     "execution_count": 28,
     "metadata": {},
     "output_type": "execute_result"
    }
   ],
   "source": [
    "covid_Eco['Sector'].value_counts()"
   ]
  },
  {
   "cell_type": "markdown",
   "metadata": {},
   "source": [
    "### Ranges"
   ]
  },
  {
   "cell_type": "markdown",
   "metadata": {},
   "source": [
    "Print the range of the `Economy`, `Employment`, and `Sector` columns: "
   ]
  },
  {
   "cell_type": "code",
   "execution_count": 29,
   "metadata": {},
   "outputs": [
    {
     "name": "stdout",
     "output_type": "stream",
     "text": [
      "Economy: Bangladesh to Viet Nam\n",
      "Employment: 0.0 to 19634.34\n",
      "Sector: Agriculture, Mining and Quarrying to _All\n"
     ]
    }
   ],
   "source": [
    "#ANSWER\n",
    "print('Economy:', covid_Eco['Economy'].min(), 'to', covid_Eco['Economy'].max())\n",
    "print('Employment:', covid_Eco['Employment (in 000)'].min(), 'to', covid_Eco['Employment (in 000)'].max())\n",
    "print('Sector:', covid_Eco['Sector'].min(), 'to', covid_Eco['Sector'].max())"
   ]
  },
  {
   "cell_type": "code",
   "execution_count": 30,
   "metadata": {},
   "outputs": [
    {
     "data": {
      "text/plain": [
       "Index(['Economy', 'ADB Country Code', 'Sector', '2018 nominal gdp', 'Scenario',\n",
       "       'as % of total GDP', 'in $ Mn', 'Employment (in 000)',\n",
       "       'as % of sector GDP', 'as % of sector employment'],\n",
       "      dtype='object')"
      ]
     },
     "execution_count": 30,
     "metadata": {},
     "output_type": "execute_result"
    }
   ],
   "source": [
    "covid_Eco.columns"
   ]
  },
  {
   "cell_type": "code",
   "execution_count": 31,
   "metadata": {},
   "outputs": [
    {
     "name": "stdout",
     "output_type": "stream",
     "text": [
      "<class 'pandas.core.frame.DataFrame'>\n",
      "RangeIndex: 570 entries, 0 to 569\n",
      "Data columns (total 10 columns):\n",
      " #   Column                     Non-Null Count  Dtype  \n",
      "---  ------                     --------------  -----  \n",
      " 0   Economy                    570 non-null    object \n",
      " 1   ADB Country Code           570 non-null    object \n",
      " 2   Sector                     570 non-null    object \n",
      " 3   2018 nominal gdp           570 non-null    object \n",
      " 4   Scenario                   570 non-null    object \n",
      " 5   as % of total GDP          570 non-null    float64\n",
      " 6   in $ Mn                    570 non-null    float64\n",
      " 7   Employment (in 000)        570 non-null    float64\n",
      " 8   as % of sector GDP         570 non-null    float64\n",
      " 9   as % of sector employment  570 non-null    float64\n",
      "dtypes: float64(5), object(5)\n",
      "memory usage: 44.7+ KB\n"
     ]
    }
   ],
   "source": [
    "covid_Eco.info()"
   ]
  },
  {
   "cell_type": "markdown",
   "metadata": {},
   "source": [
    "Compute and print the overall minimum and maximum of the numeric data columns:"
   ]
  },
  {
   "cell_type": "code",
   "execution_count": 33,
   "metadata": {},
   "outputs": [
    {
     "data": {
      "text/plain": [
       "(-25.74, 236925.79)"
      ]
     },
     "execution_count": 33,
     "metadata": {},
     "output_type": "execute_result"
    }
   ],
   "source": [
    "covid_19_min, covid_19_max = (min(covid_Eco.min(numeric_only=True)), \n",
    "                        max(covid_Eco.max(numeric_only=True)))\n",
    "covid_19_min, covid_19_max"
   ]
  },
  {
   "cell_type": "code",
   "execution_count": 37,
   "metadata": {},
   "outputs": [],
   "source": [
    "def check_min_max(covid_Eco):\n",
    "    # Check min, max of each column\n",
    "    print(covid_Eco.describe().T[['min', 'max']])"
   ]
  },
  {
   "cell_type": "code",
   "execution_count": 38,
   "metadata": {},
   "outputs": [
    {
     "name": "stdout",
     "output_type": "stream",
     "text": [
      "                             min        max\n",
      "as % of total GDP          -4.96       0.00\n",
      "in $ Mn                     0.02  236925.79\n",
      "Employment (in 000)         0.00   19634.34\n",
      "as % of sector GDP        -25.74       0.00\n",
      "as % of sector employment -25.74       0.00\n"
     ]
    }
   ],
   "source": [
    "check_min_max(covid_Eco)"
   ]
  },
  {
   "cell_type": "markdown",
   "metadata": {},
   "source": [
    "## Statistical Proof"
   ]
  },
  {
   "cell_type": "code",
   "execution_count": 39,
   "metadata": {},
   "outputs": [],
   "source": [
    "import pandas as pd\n",
    "import numpy as np\n",
    "import math\n",
    "\n",
    "from scipy import stats\n",
    "from matplotlib import pyplot as plt\n",
    "\n",
    "import seaborn as sns\n",
    "sns.set(rc={'figure.figsize': (15, 10)})\n",
    "\n",
    "import pandas as pd\n",
    "pd.set_option(\"display.max_rows\", 120)\n",
    "pd.set_option(\"display.max_columns\", 120)\n",
    "\n",
    "%matplotlib inline"
   ]
  },
  {
   "cell_type": "code",
   "execution_count": 41,
   "metadata": {},
   "outputs": [
    {
     "data": {
      "text/plain": [
       "(570, 10)"
      ]
     },
     "execution_count": 41,
     "metadata": {},
     "output_type": "execute_result"
    }
   ],
   "source": [
    "# Shape\n",
    "covid_Eco.shape"
   ]
  },
  {
   "cell_type": "markdown",
   "metadata": {},
   "source": [
    "##### 1. Plot Histogram of `Employment"
   ]
  },
  {
   "cell_type": "code",
   "execution_count": 47,
   "metadata": {},
   "outputs": [
    {
     "data": {
      "image/png": "[encoded data removed]",
      "text/plain": [
       "<Figure size 432x288 with 1 Axes>"
      ]
     },
     "metadata": {
      "needs_background": "light"
     },
     "output_type": "display_data"
    }
   ],
   "source": [
    "#  ANSWER\n",
    "Employment = covid_Eco['Employment (in 000)']\n",
    "Employment.plot(kind='hist',bins=2);"
   ]
  },
  {
   "cell_type": "code",
   "execution_count": 63,
   "metadata": {},
   "outputs": [
    {
     "data": {
      "image/png": "[encoded data removed]",
      "text/plain": [
       "<Figure size 432x288 with 1 Axes>"
      ]
     },
     "metadata": {
      "needs_background": "light"
     },
     "output_type": "display_data"
    }
   ],
   "source": [
    "#                             min        max\n",
    "#as % of total GDP          -4.96       0.00\n",
    "#in $ Mn                     0.02  236925.79\n",
    "#Employment (in 000)         0.00   19634.34\n",
    "#as % of sector GDP        -25.74       0.00\n",
    "#as % of sector employment \n",
    "\n",
    "\n",
    "Employment = covid_Eco['Employment (in 000)']\n",
    "Employment.plot(kind='hist',bins=2);\n",
    "\n",
    "Price = covid_Eco['in $ Mn']\n",
    "Price.plot(kind='hist', bins=3);"
   ]
  },
  {
   "cell_type": "markdown",
   "metadata": {},
   "source": [
    "##### 2. Plot Histogram of Price"
   ]
  },
  {
   "cell_type": "code",
   "execution_count": 66,
   "metadata": {},
   "outputs": [
    {
     "data": {
      "image/png": "[encoded data removed]",
      "text/plain": [
       "<Figure size 432x288 with 1 Axes>"
      ]
     },
     "metadata": {
      "needs_background": "light"
     },
     "output_type": "display_data"
    }
   ],
   "source": [
    "Price = covid_Eco['in $ Mn']\n",
    "Price.plot(kind='hist', bins=3);"
   ]
  },
  {
   "cell_type": "markdown",
   "metadata": {},
   "source": [
    "##### 3.A Draw Scatter Plot of `Employment and Price"
   ]
  },
  {
   "cell_type": "code",
   "execution_count": 67,
   "metadata": {},
   "outputs": [],
   "source": [
    "#We use this to identify if the employement has affected in decline of the economy"
   ]
  },
  {
   "cell_type": "code",
   "execution_count": 85,
   "metadata": {},
   "outputs": [
    {
     "data": {
      "text/plain": [
       "264.4415789473686"
      ]
     },
     "execution_count": 85,
     "metadata": {},
     "output_type": "execute_result"
    }
   ],
   "source": [
    "# ANSWER\n",
    "covid_Eco['Employment (in 000)'].mean()"
   ]
  },
  {
   "cell_type": "code",
   "execution_count": 89,
   "metadata": {},
   "outputs": [
    {
     "data": {
      "text/plain": [
       "2891.6514561403496"
      ]
     },
     "execution_count": 89,
     "metadata": {},
     "output_type": "execute_result"
    }
   ],
   "source": [
    "#sns.lmplot(x=\"Employment (in 000)\", y=\"in $ Mn \", data=covid_Eco);\n",
    "covid_Eco['in $ Mn'].mean()\n"
   ]
  },
  {
   "cell_type": "code",
   "execution_count": 90,
   "metadata": {},
   "outputs": [
    {
     "data": {
      "text/plain": [
       "<matplotlib.collections.PathCollection at 0x21057fcd4c8>"
      ]
     },
     "execution_count": 90,
     "metadata": {},
     "output_type": "execute_result"
    },
    {
     "data": {
      "image/png": "[encoded data removed]",
      "text/plain": [
       "<Figure size 432x288 with 1 Axes>"
      ]
     },
     "metadata": {
      "needs_background": "light"
     },
     "output_type": "display_data"
    }
   ],
   "source": [
    "plt.scatter(x='in $ Mn',y='Employment (in 000)', data=covid_Eco)"
   ]
  },
  {
   "cell_type": "code",
   "execution_count": 65,
   "metadata": {},
   "outputs": [
    {
     "data": {
      "image/png": "[encoded data removed]",
      "text/plain": [
       "<Figure size 360x360 with 1 Axes>"
      ]
     },
     "metadata": {
      "needs_background": "light"
     },
     "output_type": "display_data"
    }
   ],
   "source": [
    "sns.lmplot(x=\"Employment (in 000)\", y=\"in $ Mn\", data=covid_Eco);"
   ]
  },
  {
   "cell_type": "markdown",
   "metadata": {},
   "source": [
    "The trends we can see in the data set are that we can see as employment increases the economies price also increases but if they are lower so does their is decrease in the economy. We can also spot the impact of covid 19 due to "
   ]
  },
  {
   "cell_type": "markdown",
   "metadata": {},
   "source": [
    "We'll be using following steps:\n",
    "\n",
    "- Define hypothesis\n",
    "- Set alpha (Let alpha = 0.05)\n",
    "- Calculate point estimate\n",
    "- Calculate test statistic\n",
    "- Find the p-value\n",
    "- Interpret results"
   ]
  },
  {
   "cell_type": "markdown",
   "metadata": {},
   "source": [
    "## 4. Define Hypothesis\n",
    "\n",
    "Let's assume if value in millions is more than employment will be more. Price in millions increases when employement increases.\n",
    "Other than that if price is small employement is small. Thus decrease in Economy.\n",
    "\n",
    "\n",
    "**ANSWER:**\n",
    "\n",
    "    H0: There is no difference between distribution of `Employment` & `Price in millions`\n",
    "    H1: There is difference between distribution of `Employment` & `Price in millions`\n",
    "    \n"
   ]
  },
  {
   "cell_type": "markdown",
   "metadata": {},
   "source": [
    "##### 5. Set alpha (Let alpha = 0.05)"
   ]
  },
  {
   "cell_type": "markdown",
   "metadata": {},
   "source": [
    "First, we should specify our criterion for statistical significance. Traditionally, we allow for no more than a 1-in-20 chance of a spurious rejection of the null hypothesis:"
   ]
  },
  {
   "cell_type": "code",
   "execution_count": 1,
   "metadata": {},
   "outputs": [],
   "source": [
    "# ANSWER\n",
    "alpha = 0.05"
   ]
  },
  {
   "cell_type": "code",
   "execution_count": 15,
   "metadata": {},
   "outputs": [],
   "source": [
    "Employment_Eco = covid_Eco['Employment (in 000)']\n",
    "Price_Eco   =  covid_Eco['in $ Mn']"
   ]
  },
  {
   "cell_type": "code",
   "execution_count": 11,
   "metadata": {},
   "outputs": [
    {
     "data": {
      "text/plain": [
       "Index(['Economy', 'ADB Country Code', 'Sector', '2018 nominal gdp', 'Scenario',\n",
       "       'as % of total GDP', 'in $ Mn', 'Employment (in 000)',\n",
       "       'as % of sector GDP', 'as % of sector employment'],\n",
       "      dtype='object')"
      ]
     },
     "execution_count": 11,
     "metadata": {},
     "output_type": "execute_result"
    }
   ],
   "source": [
    "covid_Eco.columns"
   ]
  },
  {
   "cell_type": "markdown",
   "metadata": {},
   "source": [
    "#####  Build histogram for Employment and Price"
   ]
  },
  {
   "cell_type": "code",
   "execution_count": 27,
   "metadata": {},
   "outputs": [
    {
     "data": {
      "image/png": "[encoded data removed]",
      "text/plain": [
       "<Figure size 432x288 with 1 Axes>"
      ]
     },
     "metadata": {
      "needs_background": "light"
     },
     "output_type": "display_data"
    }
   ],
   "source": [
    "# ANSWER\n",
    "ax = sns.distplot(Employment_Eco , label='Employment_Eco', kde=False,bins=1);\n",
    "sns.distplot(Price_Eco, ax=ax, label='Price in millions', kde=False,bins=4);\n",
    "plt.legend(loc = 'upper right')\n",
    "plt.xlabel('')\n",
    "plt.ylabel('')\n",
    "plt.show();"
   ]
  },
  {
   "cell_type": "markdown",
   "metadata": {},
   "source": [
    "From this histogram we cannot approximate the trends of this data. We can observe that employement and price is stagnant meaning \n",
    "it is on the same level, no change."
   ]
  },
  {
   "cell_type": "markdown",
   "metadata": {},
   "source": [
    "7. Calculate Variance\n",
    "Calculate variance for both samples."
   ]
  },
  {
   "cell_type": "code",
   "execution_count": 29,
   "metadata": {},
   "outputs": [
    {
     "name": "stdout",
     "output_type": "stream",
     "text": [
      "2038637.4495605966\n",
      "277869975.8445298\n"
     ]
    }
   ],
   "source": [
    "# ANSWER\n",
    "var_Employment = Employment_Eco.var()\n",
    "print(var_Employment)\n",
    "var_Price = Price_Eco.var()\n",
    "print(var_Price)"
   ]
  },
  {
   "cell_type": "code",
   "execution_count": 31,
   "metadata": {},
   "outputs": [
    {
     "data": {
      "text/plain": [
       "2038637.4495605966"
      ]
     },
     "execution_count": 31,
     "metadata": {},
     "output_type": "execute_result"
    }
   ],
   "source": [
    "# ddof should be 1\n",
    "np.var(Employment_Eco, ddof=1)"
   ]
  },
  {
   "cell_type": "markdown",
   "metadata": {},
   "source": [
    "##### 8. Calculate Standard Deviation"
   ]
  },
  {
   "cell_type": "markdown",
   "metadata": {},
   "source": [
    "\n",
    "Because we are dealing with two samples we need to compute the joint standard deviation. \n",
    "\n",
    "Here sp is the pooled standard deviation for n = n1 = n2 and s^2\n",
    "X1 and s^2 X2 are the unbiased estimators of the variances of the two samples."
   ]
  },
  {
   "cell_type": "code",
   "execution_count": 36,
   "metadata": {},
   "outputs": [
    {
     "name": "stdout",
     "output_type": "stream",
     "text": [
      "std dev: 0      65.734808\n",
      "1      91.534201\n",
      "2      63.135648\n",
      "3      68.858478\n",
      "4      52.564865\n",
      "         ...    \n",
      "565     2.802677\n",
      "566     0.667083\n",
      "567     2.459675\n",
      "568     4.851288\n",
      "569     6.681691\n",
      "Length: 570, dtype: float64\n"
     ]
    }
   ],
   "source": [
    "# ANSWER\n",
    "std = np.sqrt((Employment_Eco + Price_Eco) / 2)\n",
    "print('std dev:', std)"
   ]
  },
  {
   "cell_type": "markdown",
   "metadata": {},
   "source": [
    "##### 9. Calculate test statistic"
   ]
  },
  {
   "cell_type": "code",
   "execution_count": 37,
   "metadata": {},
   "outputs": [
    {
     "name": "stdout",
     "output_type": "stream",
     "text": [
      "t: 0       -631.930581\n",
      "1       -453.817644\n",
      "2       -657.945821\n",
      "3       -603.263922\n",
      "4       -790.258584\n",
      "           ...     \n",
      "565   -14821.483602\n",
      "566   -62270.846150\n",
      "567   -16888.344725\n",
      "568    -8562.639722\n",
      "569    -6216.964091\n",
      "Length: 570, dtype: float64\n"
     ]
    }
   ],
   "source": [
    "# ANSWER\n",
    "N= 500\n",
    "t = (Employment_Eco.mean() - Price_Eco.mean()) / (std * np.sqrt(2 / N))  # t-statistic\n",
    "print('t:', t)"
   ]
  },
  {
   "cell_type": "markdown",
   "metadata": {},
   "source": [
    "##### 10. Calculate Degree of Freedom\n",
    "\n",
    "The number of degrees of freedom is the total number of samples (here, this is N from each set) minus the number of statistics in the computation (1 for each sample mean):"
   ]
  },
  {
   "cell_type": "code",
   "execution_count": 35,
   "metadata": {},
   "outputs": [
    {
     "data": {
      "text/plain": [
       "998"
      ]
     },
     "execution_count": 35,
     "metadata": {},
     "output_type": "execute_result"
    }
   ],
   "source": [
    "# ANSWER\n",
    "df = 2 * N - 2\n",
    "df"
   ]
  },
  {
   "cell_type": "markdown",
   "metadata": {},
   "source": [
    "##### 11. Find the p-value\n"
   ]
  },
  {
   "cell_type": "markdown",
   "metadata": {},
   "source": [
    "Now we can compute the probability of the above *t*-statistic from the cumulative density function:\n",
    "\n",
    "> stats.t.cdf\n",
    "\n",
    "> p_value = 1 - cdf(t) "
   ]
  },
  {
   "cell_type": "code",
   "execution_count": 38,
   "metadata": {},
   "outputs": [
    {
     "name": "stdout",
     "output_type": "stream",
     "text": [
      "t = 0       -631.930581\n",
      "1       -453.817644\n",
      "2       -657.945821\n",
      "3       -603.263922\n",
      "4       -790.258584\n",
      "           ...     \n",
      "565   -14821.483602\n",
      "566   -62270.846150\n",
      "567   -16888.344725\n",
      "568    -8562.639722\n",
      "569    -6216.964091\n",
      "Length: 570, dtype: float64\n",
      "p = [0. 0. 0. 0. 0. 0. 0. 0. 0. 0. 0. 0. 0. 0. 0. 0. 0. 0. 0. 0. 0. 0. 0. 0.\n",
      " 0. 0. 0. 0. 0. 0. 0. 0. 0. 0. 0. 0. 0. 0. 0. 0. 0. 0. 0. 0. 0. 0. 0. 0.\n",
      " 0. 0. 0. 0. 0. 0. 0. 0. 0. 0. 0. 0. 0. 0. 0. 0. 0. 0. 0. 0. 0. 0. 0. 0.\n",
      " 0. 0. 0. 0. 0. 0. 0. 0. 0. 0. 0. 0. 0. 0. 0. 0. 0. 0. 0. 0. 0. 0. 0. 0.\n",
      " 0. 0. 0. 0. 0. 0. 0. 0. 0. 0. 0. 0. 0. 0. 0. 0. 0. 0. 0. 0. 0. 0. 0. 0.\n",
      " 0. 0. 0. 0. 0. 0. 0. 0. 0. 0. 0. 0. 0. 0. 0. 0. 0. 0. 0. 0. 0. 0. 0. 0.\n",
      " 0. 0. 0. 0. 0. 0. 0. 0. 0. 0. 0. 0. 0. 0. 0. 0. 0. 0. 0. 0. 0. 0. 0. 0.\n",
      " 0. 0. 0. 0. 0. 0. 0. 0. 0. 0. 0. 0. 0. 0. 0. 0. 0. 0. 0. 0. 0. 0. 0. 0.\n",
      " 0. 0. 0. 0. 0. 0. 0. 0. 0. 0. 0. 0. 0. 0. 0. 0. 0. 0. 0. 0. 0. 0. 0. 0.\n",
      " 0. 0. 0. 0. 0. 0. 0. 0. 0. 0. 0. 0. 0. 0. 0. 0. 0. 0. 0. 0. 0. 0. 0. 0.\n",
      " 0. 0. 0. 0. 0. 0. 0. 0. 0. 0. 0. 0. 0. 0. 0. 0. 0. 0. 0. 0. 0. 0. 0. 0.\n",
      " 0. 0. 0. 0. 0. 0. 0. 0. 0. 0. 0. 0. 0. 0. 0. 0. 0. 0. 0. 0. 0. 0. 0. 0.\n",
      " 0. 0. 0. 0. 0. 0. 0. 0. 0. 0. 0. 0. 0. 0. 0. 0. 0. 0. 0. 0. 0. 0. 0. 0.\n",
      " 0. 0. 0. 0. 0. 0. 0. 0. 0. 0. 0. 0. 0. 0. 0. 0. 0. 0. 0. 0. 0. 0. 0. 0.\n",
      " 0. 0. 0. 0. 0. 0. 0. 0. 0. 0. 0. 0. 0. 0. 0. 0. 0. 0. 0. 0. 0. 0. 0. 0.\n",
      " 0. 0. 0. 0. 0. 0. 0. 0. 0. 0. 0. 0. 0. 0. 0. 0. 0. 0. 0. 0. 0. 0. 0. 0.\n",
      " 0. 0. 0. 0. 0. 0. 0. 0. 0. 0. 0. 0. 0. 0. 0. 0. 0. 0. 0. 0. 0. 0. 0. 0.\n",
      " 0. 0. 0. 0. 0. 0. 0. 0. 0. 0. 0. 0. 0. 0. 0. 0. 0. 0. 0. 0. 0. 0. 0. 0.\n",
      " 0. 0. 0. 0. 0. 0. 0. 0. 0. 0. 0. 0. 0. 0. 0. 0. 0. 0. 0. 0. 0. 0. 0. 0.\n",
      " 0. 0. 0. 0. 0. 0. 0. 0. 0. 0. 0. 0. 0. 0. 0. 0. 0. 0. 0. 0. 0. 0. 0. 0.\n",
      " 0. 0. 0. 0. 0. 0. 0. 0. 0. 0. 0. 0. 0. 0. 0. 0. 0. 0. 0. 0. 0. 0. 0. 0.\n",
      " 0. 0. 0. 0. 0. 0. 0. 0. 0. 0. 0. 0. 0. 0. 0. 0. 0. 0. 0. 0. 0. 0. 0. 0.\n",
      " 0. 0. 0. 0. 0. 0. 0. 0. 0. 0. 0. 0. 0. 0. 0. 0. 0. 0. 0. 0. 0. 0. 0. 0.\n",
      " 0. 0. 0. 0. 0. 0. 0. 0. 0. 0. 0. 0. 0. 0. 0. 0. 0. 0.]\n"
     ]
    }
   ],
   "source": [
    "# ANSWER\n",
    "p = 1 - stats.t.cdf(abs(t), df=df)  # #p-value after comparison with the t \n",
    "print(\"t = \" + str(t))\n",
    "print(\"p = \" + str(2 * p))"
   ]
  },
  {
   "cell_type": "markdown",
   "metadata": {},
   "source": [
    "#### Interpret results"
   ]
  },
  {
   "cell_type": "markdown",
   "metadata": {},
   "source": [
    "##### 12. Write a Function to Test Significance of `p_value`\n",
    "\n",
    "Write a funtion which will take p_value and alpha as input. If p_value < alpha, print reject null hypothesis message. Otherwise print a fail to reject null hypothesis message. "
   ]
  },
  {
   "cell_type": "code",
   "execution_count": 39,
   "metadata": {},
   "outputs": [],
   "source": [
    "# ANSWER\n",
    "# Null Hypothesis Dictionary\n",
    "#    H0: There is no difference between distribution of `Employment` & `Price in millions`\n",
    "#    H1: There is difference between distribution of `Employment` & `Price in millions`\n",
    "null_hypothesis = {\n",
    "    'H0': \"Employment doesn't increase prices in Economy\"\n",
    "    , 'H1': \"Their is price increases for Economy due to more employment.\"\n",
    "}"
   ]
  },
  {
   "cell_type": "code",
   "execution_count": 40,
   "metadata": {},
   "outputs": [],
   "source": [
    "# ANSWER\n",
    "def print_sig(p_value, alpha):\n",
    "    '''\n",
    "    Inputs:\n",
    "    p_value: Calculated p_value\n",
    "    alpha: Confidence level\n",
    "    '''\n",
    "    if p_value < alpha:\n",
    "        print(\"We reject our null hypothesis.\")\n",
    "        print(null_hypothesis['H1'])\n",
    "    elif p_value > alpha:\n",
    "        print(\"We fail to reject our null hypothesis.\")\n",
    "        print(null_hypothesis['H0'])\n",
    "    else:\n",
    "        print(\"Our test is inconclusive.\")"
   ]
  },
  {
   "cell_type": "code",
   "execution_count": 44,
   "metadata": {},
   "outputs": [
    {
     "name": "stdout",
     "output_type": "stream",
     "text": [
      "t = 0       -631.930581\n",
      "1       -453.817644\n",
      "2       -657.945821\n",
      "3       -603.263922\n",
      "4       -790.258584\n",
      "           ...     \n",
      "565   -14821.483602\n",
      "566   -62270.846150\n",
      "567   -16888.344725\n",
      "568    -8562.639722\n",
      "569    -6216.964091\n",
      "Length: 570, dtype: float64\n",
      "p = [0. 0. 0. 0. 0. 0. 0. 0. 0. 0. 0. 0. 0. 0. 0. 0. 0. 0. 0. 0. 0. 0. 0. 0.\n",
      " 0. 0. 0. 0. 0. 0. 0. 0. 0. 0. 0. 0. 0. 0. 0. 0. 0. 0. 0. 0. 0. 0. 0. 0.\n",
      " 0. 0. 0. 0. 0. 0. 0. 0. 0. 0. 0. 0. 0. 0. 0. 0. 0. 0. 0. 0. 0. 0. 0. 0.\n",
      " 0. 0. 0. 0. 0. 0. 0. 0. 0. 0. 0. 0. 0. 0. 0. 0. 0. 0. 0. 0. 0. 0. 0. 0.\n",
      " 0. 0. 0. 0. 0. 0. 0. 0. 0. 0. 0. 0. 0. 0. 0. 0. 0. 0. 0. 0. 0. 0. 0. 0.\n",
      " 0. 0. 0. 0. 0. 0. 0. 0. 0. 0. 0. 0. 0. 0. 0. 0. 0. 0. 0. 0. 0. 0. 0. 0.\n",
      " 0. 0. 0. 0. 0. 0. 0. 0. 0. 0. 0. 0. 0. 0. 0. 0. 0. 0. 0. 0. 0. 0. 0. 0.\n",
      " 0. 0. 0. 0. 0. 0. 0. 0. 0. 0. 0. 0. 0. 0. 0. 0. 0. 0. 0. 0. 0. 0. 0. 0.\n",
      " 0. 0. 0. 0. 0. 0. 0. 0. 0. 0. 0. 0. 0. 0. 0. 0. 0. 0. 0. 0. 0. 0. 0. 0.\n",
      " 0. 0. 0. 0. 0. 0. 0. 0. 0. 0. 0. 0. 0. 0. 0. 0. 0. 0. 0. 0. 0. 0. 0. 0.\n",
      " 0. 0. 0. 0. 0. 0. 0. 0. 0. 0. 0. 0. 0. 0. 0. 0. 0. 0. 0. 0. 0. 0. 0. 0.\n",
      " 0. 0. 0. 0. 0. 0. 0. 0. 0. 0. 0. 0. 0. 0. 0. 0. 0. 0. 0. 0. 0. 0. 0. 0.\n",
      " 0. 0. 0. 0. 0. 0. 0. 0. 0. 0. 0. 0. 0. 0. 0. 0. 0. 0. 0. 0. 0. 0. 0. 0.\n",
      " 0. 0. 0. 0. 0. 0. 0. 0. 0. 0. 0. 0. 0. 0. 0. 0. 0. 0. 0. 0. 0. 0. 0. 0.\n",
      " 0. 0. 0. 0. 0. 0. 0. 0. 0. 0. 0. 0. 0. 0. 0. 0. 0. 0. 0. 0. 0. 0. 0. 0.\n",
      " 0. 0. 0. 0. 0. 0. 0. 0. 0. 0. 0. 0. 0. 0. 0. 0. 0. 0. 0. 0. 0. 0. 0. 0.\n",
      " 0. 0. 0. 0. 0. 0. 0. 0. 0. 0. 0. 0. 0. 0. 0. 0. 0. 0. 0. 0. 0. 0. 0. 0.\n",
      " 0. 0. 0. 0. 0. 0. 0. 0. 0. 0. 0. 0. 0. 0. 0. 0. 0. 0. 0. 0. 0. 0. 0. 0.\n",
      " 0. 0. 0. 0. 0. 0. 0. 0. 0. 0. 0. 0. 0. 0. 0. 0. 0. 0. 0. 0. 0. 0. 0. 0.\n",
      " 0. 0. 0. 0. 0. 0. 0. 0. 0. 0. 0. 0. 0. 0. 0. 0. 0. 0. 0. 0. 0. 0. 0. 0.\n",
      " 0. 0. 0. 0. 0. 0. 0. 0. 0. 0. 0. 0. 0. 0. 0. 0. 0. 0. 0. 0. 0. 0. 0. 0.\n",
      " 0. 0. 0. 0. 0. 0. 0. 0. 0. 0. 0. 0. 0. 0. 0. 0. 0. 0. 0. 0. 0. 0. 0. 0.\n",
      " 0. 0. 0. 0. 0. 0. 0. 0. 0. 0. 0. 0. 0. 0. 0. 0. 0. 0. 0. 0. 0. 0. 0. 0.\n",
      " 0. 0. 0. 0. 0. 0. 0. 0. 0. 0. 0. 0. 0. 0. 0. 0. 0. 0.]\n"
     ]
    }
   ],
   "source": [
    "# ANSWER\n",
    "print(\"t = \" + str(t))\n",
    "print(\"p = \" + str(p*2))\n",
    "#print_sig(p*2, alpha)"
   ]
  },
  {
   "cell_type": "markdown",
   "metadata": {},
   "source": [
    "We reject our null hyothesis and accept that the price in millions increases due to more employment. Thus economy is better if their is more employment."
   ]
  },
  {
   "cell_type": "code",
   "execution_count": 50,
   "metadata": {},
   "outputs": [
    {
     "data": {
      "image/png": "[encoded data removed]",
      "text/plain": [
       "<Figure size 432x288 with 1 Axes>"
      ]
     },
     "metadata": {
      "needs_background": "light"
     },
     "output_type": "display_data"
    }
   ],
   "source": [
    "plt.plot(covid_Eco['Employment (in 000)'],covid_Eco['in $ Mn'])\n",
    "\n",
    "plt.plot(covid_Eco['Employment (in 000)'] ,covid_Eco['in $ Mn'], color='red', marker='o')\n",
    "plt.title('Covid Impact on Employment vs Covid Impact on Price', fontsize=14)\n",
    "plt.xlabel('Employment', fontsize=14)\n",
    "plt.ylabel('Price in millions', fontsize=14)\n",
    "plt.grid(True)\n",
    "plt.show()"
   ]
  },
  {
   "cell_type": "code",
   "execution_count": 45,
   "metadata": {},
   "outputs": [
    {
     "data": {
      "text/plain": [
       "Index(['Economy', 'ADB Country Code', 'Sector', '2018 nominal gdp', 'Scenario',\n",
       "       'as % of total GDP', 'in $ Mn', 'Employment (in 000)',\n",
       "       'as % of sector GDP', 'as % of sector employment'],\n",
       "      dtype='object')"
      ]
     },
     "execution_count": 45,
     "metadata": {},
     "output_type": "execute_result"
    }
   ],
   "source": [
    "covid_Eco.columns"
   ]
  },
  {
   "cell_type": "code",
   "execution_count": 53,
   "metadata": {},
   "outputs": [
    {
     "data": {
      "image/png": "[encoded data removed]",
      "text/plain": [
       "<Figure size 432x288 with 1 Axes>"
      ]
     },
     "metadata": {
      "needs_background": "light"
     },
     "output_type": "display_data"
    }
   ],
   "source": [
    "\n",
    "#plt.plot(covid_Eco['as % of total GDP'] ,covid_Eco['in $ Mn'], color='red', marker='o')\n",
    "#plt.title('Covid Impact on Gdp vs Covid Impact on Price', fontsize=14)\n",
    "#plt.xlabel('GDP', fontsize=14)\n",
    "#plt.ylabel('Price in millions', fontsize=14)\n",
    "#plt.grid(True)\n",
    "#plt.show()"
   ]
  },
  {
   "cell_type": "markdown",
   "metadata": {},
   "source": [
    "##### . What is the standard error of the mean? "
   ]
  },
  {
   "cell_type": "code",
   "execution_count": 54,
   "metadata": {},
   "outputs": [
    {
     "data": {
      "text/plain": [
       "264.4415789473686"
      ]
     },
     "execution_count": 54,
     "metadata": {},
     "output_type": "execute_result"
    }
   ],
   "source": [
    "covid_Eco['Employment (in 000)'].mean()"
   ]
  },
  {
   "cell_type": "code",
   "execution_count": 55,
   "metadata": {},
   "outputs": [
    {
     "data": {
      "text/plain": [
       "2891.6514561403496"
      ]
     },
     "execution_count": 55,
     "metadata": {},
     "output_type": "execute_result"
    }
   ],
   "source": [
    "covid_Eco['in $ Mn'].mean()"
   ]
  },
  {
   "cell_type": "code",
   "execution_count": 56,
   "metadata": {},
   "outputs": [
    {
     "data": {
      "text/plain": [
       "1427.8086179739205"
      ]
     },
     "execution_count": 56,
     "metadata": {},
     "output_type": "execute_result"
    }
   ],
   "source": [
    "covid_Eco['Employment (in 000)'].std()"
   ]
  },
  {
   "cell_type": "code",
   "execution_count": 57,
   "metadata": {},
   "outputs": [
    {
     "data": {
      "text/plain": [
       "16669.432379194255"
      ]
     },
     "execution_count": 57,
     "metadata": {},
     "output_type": "execute_result"
    }
   ],
   "source": [
    "covid_Eco['in $ Mn'].std()"
   ]
  },
  {
   "cell_type": "code",
   "execution_count": 58,
   "metadata": {},
   "outputs": [
    {
     "data": {
      "text/plain": [
       "475.93620599130685"
      ]
     },
     "execution_count": 58,
     "metadata": {},
     "output_type": "execute_result"
    }
   ],
   "source": [
    "n = 9\n",
    "Xsdev = 1427.8086179739205\n",
    "Xsem = Xsdev / math.sqrt(n)\n",
    "Xsem"
   ]
  },
  {
   "cell_type": "markdown",
   "metadata": {},
   "source": [
    "(Hint: When you have multiple samples and want to describe the standard deviation of those sample means (the standard error), you would use this z score formula:\n",
    "```\n",
    "z = (x – μ) / (σ / √n)\n",
    "```\n",
    "This z-score will tell you how many standard errors there are between the sample mean and the population mean.\n",
    "\n"
   ]
  },
  {
   "cell_type": "code",
   "execution_count": 59,
   "metadata": {},
   "outputs": [
    {
     "data": {
      "text/plain": [
       "1.6941468825646334e-08"
      ]
     },
     "execution_count": 59,
     "metadata": {},
     "output_type": "execute_result"
    }
   ],
   "source": [
    "# ANSWER\n",
    "# z = (sample mean - population mean) / Xsem\n",
    "z = (264.4415789473686\n",
    " - 2891.6514561403496) / Xsem\n",
    "p = stats.norm.cdf(z)\n",
    "p"
   ]
  },
  {
   "cell_type": "code",
   "execution_count": 61,
   "metadata": {},
   "outputs": [
    {
     "name": "stdout",
     "output_type": "stream",
     "text": [
      "Employment decreases Economy price  99% confidence interval.\n"
     ]
    }
   ],
   "source": [
    "\n",
    "if (1 - p) >= 0.99:\n",
    "    print('Employment decreases Economy price  99% confidence interval.')\n",
    "else:\n",
    "    print('Employment increase Economy price at a 99% confidence interval.')"
   ]
  },
  {
   "cell_type": "code",
   "execution_count": 63,
   "metadata": {},
   "outputs": [
    {
     "name": "stdout",
     "output_type": "stream",
     "text": [
      "0.0\n",
      "For a sample size of 1000 jobs, Employment Economy decreases due to covid 19 impact.\n"
     ]
    }
   ],
   "source": [
    "# ANSWER\n",
    "# increase the number of patients in the diet study!\n",
    "n = 1000\n",
    "p = stats.norm.cdf((264.4415789473686 - 2891.6514561403496) / (Xsdev / math.sqrt(n)))\n",
    "print(p)\n",
    "if (1 - p) >= 0.99:\n",
    "    print('For a sample size of', n, 'jobs, Employment Economy decreases due to covid 19 impact.')\n",
    "else:\n",
    "    print('For a sample size of', n, 'jobs, Employment Economy increases due to covid 19 impact')"
   ]
  },
  {
   "cell_type": "code",
   "execution_count": null,
   "metadata": {},
   "outputs": [],
   "source": []
  },
  {
   "cell_type": "code",
   "execution_count": null,
   "metadata": {},
   "outputs": [],
   "source": []
  },
  {
   "cell_type": "code",
   "execution_count": null,
   "metadata": {},
   "outputs": [],
   "source": []
  },
  {
   "cell_type": "code",
   "execution_count": null,
   "metadata": {},
   "outputs": [],
   "source": []
  },
  {
   "cell_type": "code",
   "execution_count": null,
   "metadata": {},
   "outputs": [],
   "source": []
  },
  {
   "cell_type": "code",
   "execution_count": null,
   "metadata": {},
   "outputs": [],
   "source": []
  }
 ],
 "metadata": {
  "kernelspec": {
   "display_name": "Python 3",
   "language": "python",
   "name": "python3"
  },
  "language_info": {
   "codemirror_mode": {
    "name": "ipython",
    "version": 3
   },
   "file_extension": ".py",
   "mimetype": "text/x-python",
   "name": "python",
   "nbconvert_exporter": "python",
   "pygments_lexer": "ipython3",
   "version": "3.7.6"
  }
 },
 "nbformat": 4,
 "nbformat_minor": 4
}
