{
 "cells": [
  {
   "cell_type": "markdown",
   "metadata": {
    "colab_type": "text",
    "id": "4M2unyfTx9B1"
   },
   "source": [
    "<div>\n",
    "<img src=https://www.institutedata.com/wp-content/uploads/2019/10/iod_h_tp_primary_c.svg width=\"300\">\n",
    "</div>"
   ]
  },
  {
   "cell_type": "markdown",
   "metadata": {
    "colab_type": "text",
    "id": "RqiJTWNJmxTh"
   },
   "source": [
    "# Statistics - part 2"
   ]
  },
  {
   "cell_type": "code",
   "execution_count": 17,
   "metadata": {
    "colab": {},
    "colab_type": "code",
    "id": "LMexHJ6rmxTh"
   },
   "outputs": [],
   "source": [
    "import numpy as np\n",
    "import matplotlib.pyplot as plt\n",
    "from scipy import stats\n",
    "# get matplot to show charts inline\n",
    "%matplotlib inline"
   ]
  },
  {
   "cell_type": "markdown",
   "metadata": {
    "colab_type": "text",
    "id": "77Yt7aCRpUKY"
   },
   "source": [
    "# 1. plot a histogram of a set of observations\n",
    "\n",
    "experiment with various number of bins"
   ]
  },
  {
   "cell_type": "code",
   "execution_count": 12,
   "metadata": {
    "colab": {},
    "colab_type": "code",
    "id": "7PY2pBe8mxTk"
   },
   "outputs": [
    {
     "data": {
      "text/plain": [
       "(array([10.,  7.,  2.,  1.,  1.]),\n",
       " array([  4. ,  23.2,  42.4,  61.6,  80.8, 100. ]),\n",
       " <a list of 5 Patch objects>)"
      ]
     },
     "execution_count": 12,
     "metadata": {},
     "output_type": "execute_result"
    },
    {
     "data": {
      "image/png": "[encoded data removed]",
      "text/plain": [
       "<Figure size 432x288 with 1 Axes>"
      ]
     },
     "metadata": {
      "needs_background": "light"
     },
     "output_type": "display_data"
    }
   ],
   "source": [
    "# plot a histogram of a set of observations\n",
    "# experiment with various number of bins\n",
    "x = [21,22,23,4,5,6,77,8,9,10,31,32,33,34,35,36,37,18,49,50,100]\n",
    "num_bins = 5\n",
    "#We can plot the histogram model by the below command\n",
    "plt.hist(x)\n",
    "\n",
    "#\n",
    "\n",
    "#Here we visualise the data using 5 bins we can change the num_bins to 10,  or more to experiment on bins.\n",
    "plt.hist(x, bins = num_bins)"
   ]
  },
  {
   "cell_type": "markdown",
   "metadata": {
    "colab_type": "text",
    "id": "cRSBy51CpgbC"
   },
   "source": [
    "# 2. Calculate statistical information of a set of observations using numpy and stats\n",
    "```\n",
    "# Expected Output:\n",
    "mean of observations = 28.884615384615383\n",
    "median of observations = 27.0\n",
    "mode of observations = ModeResult(mode=array([10]), count=array([4]))\n",
    "percentile of observations = [10.   27.   35.75]\n",
    "statistical summary of observations = DescribeResult(nobs=26, minmax=(4, 100), mean=28.884615384615383, variance=523.3061538461537, skewness=1.4001632366778733, kurtosis=2.0634808152807826)\n",
    "```"
   ]
  },
  {
   "cell_type": "code",
   "execution_count": 39,
   "metadata": {
    "colab": {},
    "colab_type": "code",
    "id": "odB27dRAmxTn"
   },
   "outputs": [
    {
     "data": {
      "text/plain": [
       "DescribeResult(nobs=26, minmax=(4, 100), mean=28.884615384615383, variance=523.3061538461537, skewness=1.4001632366778733, kurtosis=2.0634808152807826)"
      ]
     },
     "execution_count": 39,
     "metadata": {},
     "output_type": "execute_result"
    }
   ],
   "source": [
    "# calculate statistical information of a set of observations using numpy and stats\n",
    "observations = [21,22,23,4,5,6,77,8,9,10,31,32,33,34,35,36,37,18,49,50,100,10,32,49,10,10]\n",
    "#mean\n",
    "np.mean(observations)\n",
    "#ANS. 28.884615384615383\n",
    "np.median(observations)\n",
    "#27.0\n",
    "stats.mode(observations)\n",
    "#ModeResult(mode=array([10]), count=array([4]))\n",
    "np.percentile(observations, 75 )\n",
    "#25, 50, 75\n",
    "stats.describe(observations)\n",
    "#DescribeResult(nobs=26, minmax=(4, 100), mean=28.884615384615383, variance=523.3061538461537, skewness=1.4001632366778733, kurtosis=2.0634808152807826)"
   ]
  },
  {
   "cell_type": "markdown",
   "metadata": {
    "colab_type": "text",
    "id": "AGpwG3Mup0iD"
   },
   "source": [
    "# 3. Plot box chart of obstravations"
   ]
  },
  {
   "cell_type": "code",
   "execution_count": 43,
   "metadata": {
    "colab": {},
    "colab_type": "code",
    "id": "JMIEInnMmxTq"
   },
   "outputs": [
    {
     "data": {
      "image/png": "[encoded data removed]",
      "text/plain": [
       "<Figure size 720x504 with 1 Axes>"
      ]
     },
     "metadata": {
      "needs_background": "light"
     },
     "output_type": "display_data"
    }
   ],
   "source": [
    "# plot box chart of obstravations\n",
    "observations = [21,22,23,4,5,6,77,8,9,10,31,32,33,34,35,36,37,18,49,50,100,10,32,49,10,10]\n",
    "\n",
    "fig = plt.figure(figsize =(10, 7)) \n",
    "  \n",
    "plt.boxplot(observations)\n",
    "plt.show() "
   ]
  },
  {
   "cell_type": "markdown",
   "metadata": {
    "colab_type": "text",
    "id": "LcviDI1CqBtM"
   },
   "source": [
    "# 4. Create a Binomial Distribution\n",
    "\n",
    "Lookup stats.binom.pmf\n",
    "\n",
    "What does it do?\n",
    "A binomial discrete random variable.\n",
    "\n",
    "As an instance of the rv_discrete class, binom object inherits from it a collection of generic methods (see below for the full list), and completes them with details specific for this particular distribution.\n",
    "\n",
    "binom takes n and p as shape parameters, where  is the probability of a single success and  is the probability of a single failure.\n",
    "\n",
    "The probability mass function above is defined in the “standardized” form. To shift distribution use the loc parameter. Specifically, binom.pmf(k, n, p, loc) is identically equivalent to binom.pmf(k - loc, n, p).\n"
   ]
  },
  {
   "cell_type": "code",
   "execution_count": 44,
   "metadata": {
    "colab": {
     "base_uri": "https://localhost:8080/",
     "height": 367
    },
    "colab_type": "code",
    "executionInfo": {
     "elapsed": 789,
     "status": "ok",
     "timestamp": 1552700227788,
     "user": {
      "displayName": "Ibrahim Faisal",
      "photoUrl": "",
      "userId": "02685917636347920688"
     },
     "user_tz": -660
    },
    "id": "9aQ57ncDJReH",
    "outputId": "986b17b8-e2ff-4d91-f456-0b40c39dea4e"
   },
   "outputs": [
    {
     "name": "stdout",
     "output_type": "stream",
     "text": [
      "Help on method pmf in module scipy.stats._distn_infrastructure:\n",
      "\n",
      "pmf(k, *args, **kwds) method of scipy.stats._discrete_distns.binom_gen instance\n",
      "    Probability mass function at k of the given RV.\n",
      "    \n",
      "    Parameters\n",
      "    ----------\n",
      "    k : array_like\n",
      "        Quantiles.\n",
      "    arg1, arg2, arg3,... : array_like\n",
      "        The shape parameter(s) for the distribution (see docstring of the\n",
      "        instance object for more information)\n",
      "    loc : array_like, optional\n",
      "        Location parameter (default=0).\n",
      "    \n",
      "    Returns\n",
      "    -------\n",
      "    pmf : array_like\n",
      "        Probability mass function evaluated at k\n",
      "\n"
     ]
    }
   ],
   "source": [
    "help(stats.binom.pmf)"
   ]
  },
  {
   "cell_type": "code",
   "execution_count": 45,
   "metadata": {
    "colab": {
     "base_uri": "https://localhost:8080/",
     "height": 352
    },
    "colab_type": "code",
    "executionInfo": {
     "elapsed": 1446,
     "status": "ok",
     "timestamp": 1552703611710,
     "user": {
      "displayName": "Ibrahim Faisal",
      "photoUrl": "",
      "userId": "02685917636347920688"
     },
     "user_tz": -660
    },
    "id": "_vJoZMf2mxTs",
    "outputId": "0e05757d-5262-4151-8a3a-8ab401031fdf"
   },
   "outputs": [
    {
     "name": "stdout",
     "output_type": "stream",
     "text": [
      "[ 0  1  2  3  4  5  6  7  8  9 10 11 12 13 14 15 16 17 18 19]\n",
      "[0.00097656 0.00976563 0.04394531 0.1171875  0.20507813 0.24609375\n",
      " 0.20507813 0.1171875  0.04394531 0.00976563 0.00097656 0.\n",
      " 0.         0.         0.         0.         0.         0.\n",
      " 0.         0.        ]\n"
     ]
    },
    {
     "data": {
      "image/png": "[encoded data removed]",
      "text/plain": [
       "<Figure size 432x288 with 1 Axes>"
      ]
     },
     "metadata": {
      "needs_background": "light"
     },
     "output_type": "display_data"
    }
   ],
   "source": [
    "# creating a Binomial Distribution\n",
    "n = 10\n",
    "p = 0.5\n",
    "k = np.arange(0,20)\n",
    "\n",
    "print(k)\n",
    "\n",
    "binomial = stats.binom.pmf(k, n, p)\n",
    "\n",
    "print(binomial)\n",
    "\n",
    "plt.plot(binomial);"
   ]
  },
  {
   "cell_type": "markdown",
   "metadata": {
    "colab_type": "text",
    "id": "HlhkB_IcqU4U"
   },
   "source": [
    "# 5. Create a scatter plot"
   ]
  },
  {
   "cell_type": "code",
   "execution_count": 46,
   "metadata": {
    "colab": {},
    "colab_type": "code",
    "id": "-qx81cWXmxTu"
   },
   "outputs": [
    {
     "data": {
      "text/plain": [
       "<matplotlib.collections.PathCollection at 0x1c34a799d08>"
      ]
     },
     "execution_count": 46,
     "metadata": {},
     "output_type": "execute_result"
    },
    {
     "data": {
      "image/png": "[encoded data removed]",
      "text/plain": [
       "<Figure size 432x288 with 1 Axes>"
      ]
     },
     "metadata": {
      "needs_background": "light"
     },
     "output_type": "display_data"
    }
   ],
   "source": [
    "import numpy as np\n",
    "import matplotlib.pyplot as plt\n",
    "\n",
    "# Fixing random state for reproducibility\n",
    "np.random.seed(19680801)\n",
    "\n",
    "\n",
    "N = 50\n",
    "x = np.random.rand(N)\n",
    "y = np.random.rand(N)\n",
    "colors = np.random.rand(N)\n",
    "area = (30 * np.random.rand(N))**2  # 0 to 15 point radii\n",
    "\n",
    "plt.scatter(x,y)"
   ]
  },
  {
   "cell_type": "markdown",
   "metadata": {
    "colab_type": "text",
    "id": "_KQAJyqIqheV"
   },
   "source": [
    "# 6. Calculate and Visualize Correlations\n",
    "\n",
    "NOTE: Lookup np.corrcoef. What does it do?\n",
    "A correlation is a statistical measurement of the relationship between two variables. A zero correlation indicates that there is no relationship between the variables. A correlation of –1 indicates a perfect negative correlation, meaning that as one variable goes up, the other goes down."
   ]
  },
  {
   "cell_type": "code",
   "execution_count": 48,
   "metadata": {
    "colab": {},
    "colab_type": "code",
    "id": "5K4lfLpTmxTw"
   },
   "outputs": [],
   "source": [
    "# Calculate and visualise correltions\n",
    "import matplotlib\n",
    "np.random.seed(1)\n",
    "\n",
    "# 1000 random integers between 0 and 50\n",
    "x = np.random.randint(0, 50, 1000)\n",
    "\n",
    "# Positive Correlation with some noise\n",
    "y = x + np.random.normal(0, 10, 1000)"
   ]
  },
  {
   "cell_type": "code",
   "execution_count": 50,
   "metadata": {
    "colab": {
     "base_uri": "https://localhost:8080/",
     "height": 34
    },
    "colab_type": "code",
    "executionInfo": {
     "elapsed": 744,
     "status": "ok",
     "timestamp": 1552692286593,
     "user": {
      "displayName": "Ibrahim Faisal",
      "photoUrl": "",
      "userId": "02685917636347920688"
     },
     "user_tz": -660
    },
    "id": "5EPfgBdDmxTz",
    "outputId": "11f783b4-0a0f-4904-9bc2-b1a6d6e5e56e"
   },
   "outputs": [
    {
     "name": "stdout",
     "output_type": "stream",
     "text": [
      "[ 0.11163049 29.5832885 ]\n"
     ]
    },
    {
     "data": {
      "text/plain": [
       "<matplotlib.collections.PathCollection at 0x1c34a8cf448>"
      ]
     },
     "execution_count": 50,
     "metadata": {},
     "output_type": "execute_result"
    },
    {
     "data": {
      "image/png": "[encoded data removed]",
      "text/plain": [
       "<Figure size 432x288 with 1 Axes>"
      ]
     },
     "metadata": {
      "needs_background": "light"
     },
     "output_type": "display_data"
    }
   ],
   "source": [
    "# Calculate the coefficient of best fit line or curve\n",
    "x = [21,22,23,4,5,6,77,8,9,10,31,32,33,34,35,36,37,18,49,50,100,10,32,49,10,10]\n",
    "y = [88,12,23,3,6,8,9,12,27,36,34,77,60,35,36,37,18,49,50,100,10,32,49,10,10,22]\n",
    "\n",
    "print(np.polyfit(x,y,1))\n",
    "#visualise correlations\n",
    "plt.scatter(x,y)"
   ]
  },
  {
   "cell_type": "markdown",
   "metadata": {
    "colab_type": "text",
    "id": "c6f0e9yXra37"
   },
   "source": [
    "# 7. [BONUS] Plot X, Y and Best Fit Line\n",
    "\n",
    "**Write a function to calculate best fit.**\n",
    "\n",
    "![alt text](https://i.imgur.com/B43vOV0.jpg)[1]\n",
    "\n",
    "[1]: https://www.mathsisfun.com/data/least-squares-regression.html \"Least Squares Regression\""
   ]
  },
  {
   "cell_type": "code",
   "execution_count": 67,
   "metadata": {
    "colab": {},
    "colab_type": "code",
    "id": "-jouTQjemxT1",
    "scrolled": true
   },
   "outputs": [],
   "source": [
    "from statistics import mean\n",
    "import numpy as np\n",
    "\n",
    "\n",
    "# sample points \n",
    "X = [0, 5, 10, 15, 20]\n",
    "Y =  [0, 7, 10, 13, 20]\n",
    "\n",
    "# solve for a and b\n",
    "def best_fit(X, Y):\n",
    "    m = (((mean(X)*mean(Y)) - mean(X*Y)) /\n",
    "         ((mean(X)*mean(X)) - mean(X*X)))\n",
    "    \n",
    "    b = mean(Y) - m*mean(X)\n",
    "\n",
    "    \n",
    "    m = 1\n",
    "    b = 1\n",
    "    \n",
    "    return m, b\n",
    "\n",
    "# solution\n",
    "m, b = best_fit(X, Y)\n",
    "#best fit line:\n",
    "#y = 0.80 + 0.92x\n",
    "\n",
    "# plot points and fit line"
   ]
  },
  {
   "cell_type": "code",
   "execution_count": 69,
   "metadata": {},
   "outputs": [
    {
     "data": {
      "text/plain": [
       "1"
      ]
     },
     "execution_count": 69,
     "metadata": {},
     "output_type": "execute_result"
    }
   ],
   "source": []
  },
  {
   "cell_type": "code",
   "execution_count": 75,
   "metadata": {},
   "outputs": [
    {
     "name": "stdout",
     "output_type": "stream",
     "text": [
      "0.92 0.7999999999999989\n"
     ]
    }
   ],
   "source": [
    "from statistics import mean\n",
    "import numpy as np\n",
    "\n",
    "\n",
    "# sample points \n",
    "X = np.array([0, 5, 10, 15, 20])\n",
    "Y =  np.array([0, 7, 10, 13, 20])\n",
    "\n",
    "# solve for a and b\n",
    "def best_fit(X, Y):\n",
    "    a = (((mean(X)*mean(Y)) - mean(X*Y)) /\n",
    "         ((mean(X)*mean(X)) - mean(X*X))\n",
    "        )\n",
    "    \n",
    "    b = mean(Y) - a*mean(X)\n",
    "    return a,b\n",
    "\n",
    "\n",
    "a,b = best_fit(X,Y)\n",
    "\n",
    "\n",
    "\n",
    "print(a,b)\n",
    "\n",
    "\n"
   ]
  },
  {
   "cell_type": "markdown",
   "metadata": {
    "colab_type": "text",
    "id": "HfL9jnC4txJH"
   },
   "source": [
    "# 8. plot a histogram of a set of observations - centered\n",
    "\n",
    "Experiment with various number of bins\n",
    "\n",
    "        y = x - np.mean(x)"
   ]
  },
  {
   "cell_type": "code",
   "execution_count": 106,
   "metadata": {
    "colab": {},
    "colab_type": "code",
    "id": "bw-YGxBEmxT5"
   },
   "outputs": [
    {
     "data": {
      "text/plain": [
       "(array([7., 8., 4., 0., 1., 1.]),\n",
       " array([  4.,  20.,  36.,  52.,  68.,  84., 100.]),\n",
       " <a list of 6 Patch objects>)"
      ]
     },
     "execution_count": 106,
     "metadata": {},
     "output_type": "execute_result"
    },
    {
     "data": {
      "image/png": "[encoded data removed]",
      "text/plain": [
       "<Figure size 432x288 with 1 Axes>"
      ]
     },
     "metadata": {
      "needs_background": "light"
     },
     "output_type": "display_data"
    }
   ],
   "source": [
    "# plot a histogram of a set of observations - centered\n",
    "# experiment with various number of bins\n",
    "import matplotlib.pyplot as plt\n",
    "x = [21,22,23,4,5,6,77,8,9,10,31,32,33,34,35,36,37,18,49,50,100]\n",
    "\n",
    "plt.hist(x, bins='auto', align='mid')"
   ]
  },
  {
   "cell_type": "markdown",
   "metadata": {
    "colab_type": "text",
    "id": "IvLbO4hot_oK"
   },
   "source": [
    "# 9. plot a histogram of a set of observations - scaled\n",
    "\n",
    "        y = x / np.std(x)"
   ]
  },
  {
   "cell_type": "code",
   "execution_count": 116,
   "metadata": {
    "colab": {},
    "colab_type": "code",
    "id": "rKkxbfpGmxT7"
   },
   "outputs": [
    {
     "ename": "ValueError",
     "evalue": "'5' is not a valid estimator for `bins`",
     "output_type": "error",
     "traceback": [
      "\u001b[1;31m---------------------------------------------------------------------------\u001b[0m",
      "\u001b[1;31mValueError\u001b[0m                                Traceback (most recent call last)",
      "\u001b[1;32m<ipython-input-116-cc45615146a8>\u001b[0m in \u001b[0;36m<module>\u001b[1;34m\u001b[0m\n\u001b[0;32m      2\u001b[0m \u001b[1;31m# experiment with various number of bins\u001b[0m\u001b[1;33m\u001b[0m\u001b[1;33m\u001b[0m\u001b[1;33m\u001b[0m\u001b[0m\n\u001b[0;32m      3\u001b[0m \u001b[0mx\u001b[0m \u001b[1;33m=\u001b[0m \u001b[1;33m[\u001b[0m\u001b[1;36m21\u001b[0m\u001b[1;33m,\u001b[0m\u001b[1;36m22\u001b[0m\u001b[1;33m,\u001b[0m\u001b[1;36m23\u001b[0m\u001b[1;33m,\u001b[0m\u001b[1;36m4\u001b[0m\u001b[1;33m,\u001b[0m\u001b[1;36m5\u001b[0m\u001b[1;33m,\u001b[0m\u001b[1;36m6\u001b[0m\u001b[1;33m,\u001b[0m\u001b[1;36m77\u001b[0m\u001b[1;33m,\u001b[0m\u001b[1;36m8\u001b[0m\u001b[1;33m,\u001b[0m\u001b[1;36m9\u001b[0m\u001b[1;33m,\u001b[0m\u001b[1;36m10\u001b[0m\u001b[1;33m,\u001b[0m\u001b[1;36m31\u001b[0m\u001b[1;33m,\u001b[0m\u001b[1;36m32\u001b[0m\u001b[1;33m,\u001b[0m\u001b[1;36m33\u001b[0m\u001b[1;33m,\u001b[0m\u001b[1;36m34\u001b[0m\u001b[1;33m,\u001b[0m\u001b[1;36m35\u001b[0m\u001b[1;33m,\u001b[0m\u001b[1;36m36\u001b[0m\u001b[1;33m,\u001b[0m\u001b[1;36m37\u001b[0m\u001b[1;33m,\u001b[0m\u001b[1;36m18\u001b[0m\u001b[1;33m,\u001b[0m\u001b[1;36m49\u001b[0m\u001b[1;33m,\u001b[0m\u001b[1;36m50\u001b[0m\u001b[1;33m,\u001b[0m\u001b[1;36m100\u001b[0m\u001b[1;33m]\u001b[0m\u001b[1;33m\u001b[0m\u001b[1;33m\u001b[0m\u001b[0m\n\u001b[1;32m----> 4\u001b[1;33m \u001b[0mplt\u001b[0m\u001b[1;33m.\u001b[0m\u001b[0mhist\u001b[0m\u001b[1;33m(\u001b[0m\u001b[0mx\u001b[0m\u001b[1;33m,\u001b[0m \u001b[0mbins\u001b[0m\u001b[1;33m=\u001b[0m\u001b[1;34m'5'\u001b[0m\u001b[1;33m,\u001b[0m \u001b[0mrwidth\u001b[0m\u001b[1;33m=\u001b[0m\u001b[1;34m'scaled'\u001b[0m\u001b[1;33m)\u001b[0m\u001b[1;33m\u001b[0m\u001b[1;33m\u001b[0m\u001b[0m\n\u001b[0m",
      "\u001b[1;32m~\\Anaconda\\lib\\site-packages\\matplotlib\\pyplot.py\u001b[0m in \u001b[0;36mhist\u001b[1;34m(x, bins, range, density, weights, cumulative, bottom, histtype, align, orientation, rwidth, log, color, label, stacked, normed, data, **kwargs)\u001b[0m\n\u001b[0;32m   2641\u001b[0m         \u001b[0malign\u001b[0m\u001b[1;33m=\u001b[0m\u001b[0malign\u001b[0m\u001b[1;33m,\u001b[0m \u001b[0morientation\u001b[0m\u001b[1;33m=\u001b[0m\u001b[0morientation\u001b[0m\u001b[1;33m,\u001b[0m \u001b[0mrwidth\u001b[0m\u001b[1;33m=\u001b[0m\u001b[0mrwidth\u001b[0m\u001b[1;33m,\u001b[0m \u001b[0mlog\u001b[0m\u001b[1;33m=\u001b[0m\u001b[0mlog\u001b[0m\u001b[1;33m,\u001b[0m\u001b[1;33m\u001b[0m\u001b[1;33m\u001b[0m\u001b[0m\n\u001b[0;32m   2642\u001b[0m         \u001b[0mcolor\u001b[0m\u001b[1;33m=\u001b[0m\u001b[0mcolor\u001b[0m\u001b[1;33m,\u001b[0m \u001b[0mlabel\u001b[0m\u001b[1;33m=\u001b[0m\u001b[0mlabel\u001b[0m\u001b[1;33m,\u001b[0m \u001b[0mstacked\u001b[0m\u001b[1;33m=\u001b[0m\u001b[0mstacked\u001b[0m\u001b[1;33m,\u001b[0m \u001b[0mnormed\u001b[0m\u001b[1;33m=\u001b[0m\u001b[0mnormed\u001b[0m\u001b[1;33m,\u001b[0m\u001b[1;33m\u001b[0m\u001b[1;33m\u001b[0m\u001b[0m\n\u001b[1;32m-> 2643\u001b[1;33m         **({\"data\": data} if data is not None else {}), **kwargs)\n\u001b[0m\u001b[0;32m   2644\u001b[0m \u001b[1;33m\u001b[0m\u001b[0m\n\u001b[0;32m   2645\u001b[0m \u001b[1;33m\u001b[0m\u001b[0m\n",
      "\u001b[1;32m~\\Anaconda\\lib\\site-packages\\matplotlib\\__init__.py\u001b[0m in \u001b[0;36minner\u001b[1;34m(ax, data, *args, **kwargs)\u001b[0m\n\u001b[0;32m   1597\u001b[0m     \u001b[1;32mdef\u001b[0m \u001b[0minner\u001b[0m\u001b[1;33m(\u001b[0m\u001b[0max\u001b[0m\u001b[1;33m,\u001b[0m \u001b[1;33m*\u001b[0m\u001b[0margs\u001b[0m\u001b[1;33m,\u001b[0m \u001b[0mdata\u001b[0m\u001b[1;33m=\u001b[0m\u001b[1;32mNone\u001b[0m\u001b[1;33m,\u001b[0m \u001b[1;33m**\u001b[0m\u001b[0mkwargs\u001b[0m\u001b[1;33m)\u001b[0m\u001b[1;33m:\u001b[0m\u001b[1;33m\u001b[0m\u001b[1;33m\u001b[0m\u001b[0m\n\u001b[0;32m   1598\u001b[0m         \u001b[1;32mif\u001b[0m \u001b[0mdata\u001b[0m \u001b[1;32mis\u001b[0m \u001b[1;32mNone\u001b[0m\u001b[1;33m:\u001b[0m\u001b[1;33m\u001b[0m\u001b[1;33m\u001b[0m\u001b[0m\n\u001b[1;32m-> 1599\u001b[1;33m             \u001b[1;32mreturn\u001b[0m \u001b[0mfunc\u001b[0m\u001b[1;33m(\u001b[0m\u001b[0max\u001b[0m\u001b[1;33m,\u001b[0m \u001b[1;33m*\u001b[0m\u001b[0mmap\u001b[0m\u001b[1;33m(\u001b[0m\u001b[0msanitize_sequence\u001b[0m\u001b[1;33m,\u001b[0m \u001b[0margs\u001b[0m\u001b[1;33m)\u001b[0m\u001b[1;33m,\u001b[0m \u001b[1;33m**\u001b[0m\u001b[0mkwargs\u001b[0m\u001b[1;33m)\u001b[0m\u001b[1;33m\u001b[0m\u001b[1;33m\u001b[0m\u001b[0m\n\u001b[0m\u001b[0;32m   1600\u001b[0m \u001b[1;33m\u001b[0m\u001b[0m\n\u001b[0;32m   1601\u001b[0m         \u001b[0mbound\u001b[0m \u001b[1;33m=\u001b[0m \u001b[0mnew_sig\u001b[0m\u001b[1;33m.\u001b[0m\u001b[0mbind\u001b[0m\u001b[1;33m(\u001b[0m\u001b[0max\u001b[0m\u001b[1;33m,\u001b[0m \u001b[1;33m*\u001b[0m\u001b[0margs\u001b[0m\u001b[1;33m,\u001b[0m \u001b[1;33m**\u001b[0m\u001b[0mkwargs\u001b[0m\u001b[1;33m)\u001b[0m\u001b[1;33m\u001b[0m\u001b[1;33m\u001b[0m\u001b[0m\n",
      "\u001b[1;32m~\\Anaconda\\lib\\site-packages\\matplotlib\\axes\\_axes.py\u001b[0m in \u001b[0;36mhist\u001b[1;34m(self, x, bins, range, density, weights, cumulative, bottom, histtype, align, orientation, rwidth, log, color, label, stacked, normed, **kwargs)\u001b[0m\n\u001b[0;32m   6773\u001b[0m             \u001b[1;31m# this will automatically overwrite bins,\u001b[0m\u001b[1;33m\u001b[0m\u001b[1;33m\u001b[0m\u001b[1;33m\u001b[0m\u001b[0m\n\u001b[0;32m   6774\u001b[0m             \u001b[1;31m# so that each histogram uses the same bins\u001b[0m\u001b[1;33m\u001b[0m\u001b[1;33m\u001b[0m\u001b[1;33m\u001b[0m\u001b[0m\n\u001b[1;32m-> 6775\u001b[1;33m             \u001b[0mm\u001b[0m\u001b[1;33m,\u001b[0m \u001b[0mbins\u001b[0m \u001b[1;33m=\u001b[0m \u001b[0mnp\u001b[0m\u001b[1;33m.\u001b[0m\u001b[0mhistogram\u001b[0m\u001b[1;33m(\u001b[0m\u001b[0mx\u001b[0m\u001b[1;33m[\u001b[0m\u001b[0mi\u001b[0m\u001b[1;33m]\u001b[0m\u001b[1;33m,\u001b[0m \u001b[0mbins\u001b[0m\u001b[1;33m,\u001b[0m \u001b[0mweights\u001b[0m\u001b[1;33m=\u001b[0m\u001b[0mw\u001b[0m\u001b[1;33m[\u001b[0m\u001b[0mi\u001b[0m\u001b[1;33m]\u001b[0m\u001b[1;33m,\u001b[0m \u001b[1;33m**\u001b[0m\u001b[0mhist_kwargs\u001b[0m\u001b[1;33m)\u001b[0m\u001b[1;33m\u001b[0m\u001b[1;33m\u001b[0m\u001b[0m\n\u001b[0m\u001b[0;32m   6776\u001b[0m             \u001b[0mm\u001b[0m \u001b[1;33m=\u001b[0m \u001b[0mm\u001b[0m\u001b[1;33m.\u001b[0m\u001b[0mastype\u001b[0m\u001b[1;33m(\u001b[0m\u001b[0mfloat\u001b[0m\u001b[1;33m)\u001b[0m  \u001b[1;31m# causes problems later if it's an int\u001b[0m\u001b[1;33m\u001b[0m\u001b[1;33m\u001b[0m\u001b[0m\n\u001b[0;32m   6777\u001b[0m             \u001b[1;32mif\u001b[0m \u001b[0mmlast\u001b[0m \u001b[1;32mis\u001b[0m \u001b[1;32mNone\u001b[0m\u001b[1;33m:\u001b[0m\u001b[1;33m\u001b[0m\u001b[1;33m\u001b[0m\u001b[0m\n",
      "\u001b[1;32m<__array_function__ internals>\u001b[0m in \u001b[0;36mhistogram\u001b[1;34m(*args, **kwargs)\u001b[0m\n",
      "\u001b[1;32m~\\Anaconda\\lib\\site-packages\\numpy\\lib\\histograms.py\u001b[0m in \u001b[0;36mhistogram\u001b[1;34m(a, bins, range, normed, weights, density)\u001b[0m\n\u001b[0;32m    793\u001b[0m     \u001b[0ma\u001b[0m\u001b[1;33m,\u001b[0m \u001b[0mweights\u001b[0m \u001b[1;33m=\u001b[0m \u001b[0m_ravel_and_check_weights\u001b[0m\u001b[1;33m(\u001b[0m\u001b[0ma\u001b[0m\u001b[1;33m,\u001b[0m \u001b[0mweights\u001b[0m\u001b[1;33m)\u001b[0m\u001b[1;33m\u001b[0m\u001b[1;33m\u001b[0m\u001b[0m\n\u001b[0;32m    794\u001b[0m \u001b[1;33m\u001b[0m\u001b[0m\n\u001b[1;32m--> 795\u001b[1;33m     \u001b[0mbin_edges\u001b[0m\u001b[1;33m,\u001b[0m \u001b[0muniform_bins\u001b[0m \u001b[1;33m=\u001b[0m \u001b[0m_get_bin_edges\u001b[0m\u001b[1;33m(\u001b[0m\u001b[0ma\u001b[0m\u001b[1;33m,\u001b[0m \u001b[0mbins\u001b[0m\u001b[1;33m,\u001b[0m \u001b[0mrange\u001b[0m\u001b[1;33m,\u001b[0m \u001b[0mweights\u001b[0m\u001b[1;33m)\u001b[0m\u001b[1;33m\u001b[0m\u001b[1;33m\u001b[0m\u001b[0m\n\u001b[0m\u001b[0;32m    796\u001b[0m \u001b[1;33m\u001b[0m\u001b[0m\n\u001b[0;32m    797\u001b[0m     \u001b[1;31m# Histogram is an integer or a float array depending on the weights.\u001b[0m\u001b[1;33m\u001b[0m\u001b[1;33m\u001b[0m\u001b[1;33m\u001b[0m\u001b[0m\n",
      "\u001b[1;32m~\\Anaconda\\lib\\site-packages\\numpy\\lib\\histograms.py\u001b[0m in \u001b[0;36m_get_bin_edges\u001b[1;34m(a, bins, range, weights)\u001b[0m\n\u001b[0;32m    392\u001b[0m         \u001b[1;32mif\u001b[0m \u001b[0mbin_name\u001b[0m \u001b[1;32mnot\u001b[0m \u001b[1;32min\u001b[0m \u001b[0m_hist_bin_selectors\u001b[0m\u001b[1;33m:\u001b[0m\u001b[1;33m\u001b[0m\u001b[1;33m\u001b[0m\u001b[0m\n\u001b[0;32m    393\u001b[0m             raise ValueError(\n\u001b[1;32m--> 394\u001b[1;33m                 \"{!r} is not a valid estimator for `bins`\".format(bin_name))\n\u001b[0m\u001b[0;32m    395\u001b[0m         \u001b[1;32mif\u001b[0m \u001b[0mweights\u001b[0m \u001b[1;32mis\u001b[0m \u001b[1;32mnot\u001b[0m \u001b[1;32mNone\u001b[0m\u001b[1;33m:\u001b[0m\u001b[1;33m\u001b[0m\u001b[1;33m\u001b[0m\u001b[0m\n\u001b[0;32m    396\u001b[0m             raise TypeError(\"Automated estimation of the number of \"\n",
      "\u001b[1;31mValueError\u001b[0m: '5' is not a valid estimator for `bins`"
     ]
    },
    {
     "data": {
      "image/png": "[encoded data removed]",
      "text/plain": [
       "<Figure size 432x288 with 1 Axes>"
      ]
     },
     "metadata": {
      "needs_background": "light"
     },
     "output_type": "display_data"
    }
   ],
   "source": [
    "# plot a histogram of a set of observations - scaled\n",
    "# experiment with various number of bins\n",
    "x = [21,22,23,4,5,6,77,8,9,10,31,32,33,34,35,36,37,18,49,50,100]\n",
    "plt.hist(x, bins='5', rwidth='scaled')\n"
   ]
  },
  {
   "cell_type": "markdown",
   "metadata": {
    "colab_type": "text",
    "id": "WhM8Zio5uQ65"
   },
   "source": [
    "# 10. [BONUS] Create a probplot against normal distribution\n",
    "\n",
    "Check following methods:\n",
    "\n",
    "1. stats.loggamma.rvs\n",
    "2. stats.probplot\n",
    "3. stats.norm\n",
    "4. stats.boxcox"
   ]
  },
  {
   "cell_type": "code",
   "execution_count": 122,
   "metadata": {
    "colab": {
     "base_uri": "https://localhost:8080/",
     "height": 151
    },
    "colab_type": "code",
    "executionInfo": {
     "elapsed": 723,
     "status": "ok",
     "timestamp": 1552693315169,
     "user": {
      "displayName": "Ibrahim Faisal",
      "photoUrl": "",
      "userId": "02685917636347920688"
     },
     "user_tz": -660
    },
    "id": "2X4WJFBxmxT_",
    "outputId": "8c130b45-aba0-488e-e643-44b4f6d11577"
   },
   "outputs": [
    {
     "data": {
      "text/plain": [
       "((array([-2.99209858e+00, -2.71015927e+00, -2.55162541e+00, -2.43921385e+00,\n",
       "         -2.35113311e+00, -2.27822091e+00, -2.21572267e+00, -2.16084152e+00,\n",
       "         -2.11178767e+00, -2.06734403e+00, -2.02664403e+00, -1.98904794e+00,\n",
       "         -1.95406954e+00, -1.92133033e+00, -1.89052965e+00, -1.86142459e+00,\n",
       "         -1.83381593e+00, -1.80753820e+00, -1.78245240e+00, -1.75844061e+00,\n",
       "         -1.73540186e+00, -1.71324904e+00, -1.69190643e+00, -1.67130780e+00,\n",
       "         -1.65139483e+00, -1.63211595e+00, -1.61342528e+00, -1.59528183e+00,\n",
       "         -1.57764883e+00, -1.56049314e+00, -1.54378481e+00, -1.52749667e+00,\n",
       "         -1.51160399e+00, -1.49608418e+00, -1.48091659e+00, -1.46608224e+00,\n",
       "         -1.45156367e+00, -1.43734479e+00, -1.42341071e+00, -1.40974764e+00,\n",
       "         -1.39634279e+00, -1.38318426e+00, -1.37026095e+00, -1.35756253e+00,\n",
       "         -1.34507932e+00, -1.33280226e+00, -1.32072287e+00, -1.30883317e+00,\n",
       "         -1.29712567e+00, -1.28559331e+00, -1.27422944e+00, -1.26302778e+00,\n",
       "         -1.25198239e+00, -1.24108768e+00, -1.23033831e+00, -1.21972926e+00,\n",
       "         -1.20925574e+00, -1.19891322e+00, -1.18869738e+00, -1.17860411e+00,\n",
       "         -1.16862950e+00, -1.15876983e+00, -1.14902154e+00, -1.13938123e+00,\n",
       "         -1.12984566e+00, -1.12041173e+00, -1.11107648e+00, -1.10183707e+00,\n",
       "         -1.09269077e+00, -1.08363498e+00, -1.07466719e+00, -1.06578501e+00,\n",
       "         -1.05698612e+00, -1.04826831e+00, -1.03962946e+00, -1.03106750e+00,\n",
       "         -1.02258046e+00, -1.01416645e+00, -1.00582364e+00, -9.97550247e-01,\n",
       "         -9.89344581e-01, -9.81204996e-01, -9.73129904e-01, -9.65117774e-01,\n",
       "         -9.57167125e-01, -9.49276525e-01, -9.41444591e-01, -9.33669982e-01,\n",
       "         -9.25951403e-01, -9.18287599e-01, -9.10677353e-01, -9.03119487e-01,\n",
       "         -8.95612861e-01, -8.88156365e-01, -8.80748927e-01, -8.73389502e-01,\n",
       "         -8.66077081e-01, -8.58810678e-01, -8.51589342e-01, -8.44412143e-01,\n",
       "         -8.37278180e-01, -8.30186576e-01, -8.23136480e-01, -8.16127061e-01,\n",
       "         -8.09157513e-01, -8.02227049e-01, -7.95334905e-01, -7.88480336e-01,\n",
       "         -7.81662614e-01, -7.74881033e-01, -7.68134903e-01, -7.61423551e-01,\n",
       "         -7.54746322e-01, -7.48102575e-01, -7.41491685e-01, -7.34913044e-01,\n",
       "         -7.28366057e-01, -7.21850142e-01, -7.15364731e-01, -7.08909270e-01,\n",
       "         -7.02483218e-01, -6.96086043e-01, -6.89717230e-01, -6.83376271e-01,\n",
       "         -6.77062670e-01, -6.70775943e-01, -6.64515617e-01, -6.58281226e-01,\n",
       "         -6.52072317e-01, -6.45888445e-01, -6.39729174e-01, -6.33594076e-01,\n",
       "         -6.27482735e-01, -6.21394740e-01, -6.15329690e-01, -6.09287191e-01,\n",
       "         -6.03266856e-01, -5.97268307e-01, -5.91291174e-01, -5.85335090e-01,\n",
       "         -5.79399700e-01, -5.73484651e-01, -5.67589599e-01, -5.61714207e-01,\n",
       "         -5.55858142e-01, -5.50021077e-01, -5.44202692e-01, -5.38402673e-01,\n",
       "         -5.32620709e-01, -5.26856497e-01, -5.21109737e-01, -5.15380136e-01,\n",
       "         -5.09667405e-01, -5.03971258e-01, -4.98291417e-01, -4.92627606e-01,\n",
       "         -4.86979553e-01, -4.81346993e-01, -4.75729663e-01, -4.70127305e-01,\n",
       "         -4.64539663e-01, -4.58966488e-01, -4.53407532e-01, -4.47862553e-01,\n",
       "         -4.42331309e-01, -4.36813566e-01, -4.31309089e-01, -4.25817651e-01,\n",
       "         -4.20339023e-01, -4.14872983e-01, -4.09419311e-01, -4.03977788e-01,\n",
       "         -3.98548202e-01, -3.93130339e-01, -3.87723992e-01, -3.82328953e-01,\n",
       "         -3.76945020e-01, -3.71571992e-01, -3.66209669e-01, -3.60857856e-01,\n",
       "         -3.55516359e-01, -3.50184986e-01, -3.44863547e-01, -3.39551857e-01,\n",
       "         -3.34249730e-01, -3.28956983e-01, -3.23673435e-01, -3.18398908e-01,\n",
       "         -3.13133223e-01, -3.07876207e-01, -3.02627686e-01, -2.97387487e-01,\n",
       "         -2.92155443e-01, -2.86931384e-01, -2.81715143e-01, -2.76506557e-01,\n",
       "         -2.71305462e-01, -2.66111695e-01, -2.60925097e-01, -2.55745509e-01,\n",
       "         -2.50572773e-01, -2.45406732e-01, -2.40247233e-01, -2.35094122e-01,\n",
       "         -2.29947246e-01, -2.24806454e-01, -2.19671596e-01, -2.14542524e-01,\n",
       "         -2.09419090e-01, -2.04301147e-01, -1.99188550e-01, -1.94081154e-01,\n",
       "         -1.88978816e-01, -1.83881393e-01, -1.78788743e-01, -1.73700727e-01,\n",
       "         -1.68617203e-01, -1.63538032e-01, -1.58463078e-01, -1.53392201e-01,\n",
       "         -1.48325265e-01, -1.43262135e-01, -1.38202675e-01, -1.33146749e-01,\n",
       "         -1.28094226e-01, -1.23044970e-01, -1.17998849e-01, -1.12955731e-01,\n",
       "         -1.07915484e-01, -1.02877978e-01, -9.78430801e-02, -9.28106619e-02,\n",
       "         -8.77805930e-02, -8.27527442e-02, -7.77269864e-02, -7.27031911e-02,\n",
       "         -6.76812301e-02, -6.26609755e-02, -5.76422995e-02, -5.26250751e-02,\n",
       "         -4.76091750e-02, -4.25944724e-02, -3.75808407e-02, -3.25681535e-02,\n",
       "         -2.75562846e-02, -2.25451077e-02, -1.75344969e-02, -1.25243263e-02,\n",
       "         -7.51447003e-03, -2.50480239e-03,  2.50480239e-03,  7.51447003e-03,\n",
       "          1.25243263e-02,  1.75344969e-02,  2.25451077e-02,  2.75562846e-02,\n",
       "          3.25681535e-02,  3.75808407e-02,  4.25944724e-02,  4.76091750e-02,\n",
       "          5.26250751e-02,  5.76422995e-02,  6.26609755e-02,  6.76812301e-02,\n",
       "          7.27031911e-02,  7.77269864e-02,  8.27527442e-02,  8.77805930e-02,\n",
       "          9.28106619e-02,  9.78430801e-02,  1.02877978e-01,  1.07915484e-01,\n",
       "          1.12955731e-01,  1.17998849e-01,  1.23044970e-01,  1.28094226e-01,\n",
       "          1.33146749e-01,  1.38202675e-01,  1.43262135e-01,  1.48325265e-01,\n",
       "          1.53392201e-01,  1.58463078e-01,  1.63538032e-01,  1.68617203e-01,\n",
       "          1.73700727e-01,  1.78788743e-01,  1.83881393e-01,  1.88978816e-01,\n",
       "          1.94081154e-01,  1.99188550e-01,  2.04301147e-01,  2.09419090e-01,\n",
       "          2.14542524e-01,  2.19671596e-01,  2.24806454e-01,  2.29947246e-01,\n",
       "          2.35094122e-01,  2.40247233e-01,  2.45406732e-01,  2.50572773e-01,\n",
       "          2.55745509e-01,  2.60925097e-01,  2.66111695e-01,  2.71305462e-01,\n",
       "          2.76506557e-01,  2.81715143e-01,  2.86931384e-01,  2.92155443e-01,\n",
       "          2.97387487e-01,  3.02627686e-01,  3.07876207e-01,  3.13133223e-01,\n",
       "          3.18398908e-01,  3.23673435e-01,  3.28956983e-01,  3.34249730e-01,\n",
       "          3.39551857e-01,  3.44863547e-01,  3.50184986e-01,  3.55516359e-01,\n",
       "          3.60857856e-01,  3.66209669e-01,  3.71571992e-01,  3.76945020e-01,\n",
       "          3.82328953e-01,  3.87723992e-01,  3.93130339e-01,  3.98548202e-01,\n",
       "          4.03977788e-01,  4.09419311e-01,  4.14872983e-01,  4.20339023e-01,\n",
       "          4.25817651e-01,  4.31309089e-01,  4.36813566e-01,  4.42331309e-01,\n",
       "          4.47862553e-01,  4.53407532e-01,  4.58966488e-01,  4.64539663e-01,\n",
       "          4.70127305e-01,  4.75729663e-01,  4.81346993e-01,  4.86979553e-01,\n",
       "          4.92627606e-01,  4.98291417e-01,  5.03971258e-01,  5.09667405e-01,\n",
       "          5.15380136e-01,  5.21109737e-01,  5.26856497e-01,  5.32620709e-01,\n",
       "          5.38402673e-01,  5.44202692e-01,  5.50021077e-01,  5.55858142e-01,\n",
       "          5.61714207e-01,  5.67589599e-01,  5.73484651e-01,  5.79399700e-01,\n",
       "          5.85335090e-01,  5.91291174e-01,  5.97268307e-01,  6.03266856e-01,\n",
       "          6.09287191e-01,  6.15329690e-01,  6.21394740e-01,  6.27482735e-01,\n",
       "          6.33594076e-01,  6.39729174e-01,  6.45888445e-01,  6.52072317e-01,\n",
       "          6.58281226e-01,  6.64515617e-01,  6.70775943e-01,  6.77062670e-01,\n",
       "          6.83376271e-01,  6.89717230e-01,  6.96086043e-01,  7.02483218e-01,\n",
       "          7.08909270e-01,  7.15364731e-01,  7.21850142e-01,  7.28366057e-01,\n",
       "          7.34913044e-01,  7.41491685e-01,  7.48102575e-01,  7.54746322e-01,\n",
       "          7.61423551e-01,  7.68134903e-01,  7.74881033e-01,  7.81662614e-01,\n",
       "          7.88480336e-01,  7.95334905e-01,  8.02227049e-01,  8.09157513e-01,\n",
       "          8.16127061e-01,  8.23136480e-01,  8.30186576e-01,  8.37278180e-01,\n",
       "          8.44412143e-01,  8.51589342e-01,  8.58810678e-01,  8.66077081e-01,\n",
       "          8.73389502e-01,  8.80748927e-01,  8.88156365e-01,  8.95612861e-01,\n",
       "          9.03119487e-01,  9.10677353e-01,  9.18287599e-01,  9.25951403e-01,\n",
       "          9.33669982e-01,  9.41444591e-01,  9.49276525e-01,  9.57167125e-01,\n",
       "          9.65117774e-01,  9.73129904e-01,  9.81204996e-01,  9.89344581e-01,\n",
       "          9.97550247e-01,  1.00582364e+00,  1.01416645e+00,  1.02258046e+00,\n",
       "          1.03106750e+00,  1.03962946e+00,  1.04826831e+00,  1.05698612e+00,\n",
       "          1.06578501e+00,  1.07466719e+00,  1.08363498e+00,  1.09269077e+00,\n",
       "          1.10183707e+00,  1.11107648e+00,  1.12041173e+00,  1.12984566e+00,\n",
       "          1.13938123e+00,  1.14902154e+00,  1.15876983e+00,  1.16862950e+00,\n",
       "          1.17860411e+00,  1.18869738e+00,  1.19891322e+00,  1.20925574e+00,\n",
       "          1.21972926e+00,  1.23033831e+00,  1.24108768e+00,  1.25198239e+00,\n",
       "          1.26302778e+00,  1.27422944e+00,  1.28559331e+00,  1.29712567e+00,\n",
       "          1.30883317e+00,  1.32072287e+00,  1.33280226e+00,  1.34507932e+00,\n",
       "          1.35756253e+00,  1.37026095e+00,  1.38318426e+00,  1.39634279e+00,\n",
       "          1.40974764e+00,  1.42341071e+00,  1.43734479e+00,  1.45156367e+00,\n",
       "          1.46608224e+00,  1.48091659e+00,  1.49608418e+00,  1.51160399e+00,\n",
       "          1.52749667e+00,  1.54378481e+00,  1.56049314e+00,  1.57764883e+00,\n",
       "          1.59528183e+00,  1.61342528e+00,  1.63211595e+00,  1.65139483e+00,\n",
       "          1.67130780e+00,  1.69190643e+00,  1.71324904e+00,  1.73540186e+00,\n",
       "          1.75844061e+00,  1.78245240e+00,  1.80753820e+00,  1.83381593e+00,\n",
       "          1.86142459e+00,  1.89052965e+00,  1.92133033e+00,  1.95406954e+00,\n",
       "          1.98904794e+00,  2.02664403e+00,  2.06734403e+00,  2.11178767e+00,\n",
       "          2.16084152e+00,  2.21572267e+00,  2.27822091e+00,  2.35113311e+00,\n",
       "          2.43921385e+00,  2.55162541e+00,  2.71015927e+00,  2.99209858e+00]),\n",
       "  array([ 6.74696577,  7.19843778,  7.31487514,  7.35231937,  7.65486896,\n",
       "          7.68425271,  7.68739803,  7.7126047 ,  7.71422539,  7.73468877,\n",
       "          7.75897734,  7.84467494,  7.84915492,  7.92521023,  7.97969339,\n",
       "          7.98602171,  7.99065321,  8.00461523,  8.04260941,  8.09959837,\n",
       "          8.12008376,  8.13774046,  8.16215323,  8.18707931,  8.19616911,\n",
       "          8.23968409,  8.32725583,  8.40685248,  8.4177059 ,  8.42418515,\n",
       "          8.45982487,  8.46467645,  8.46615648,  8.46834925,  8.47185608,\n",
       "          8.4749394 ,  8.48284874,  8.48443261,  8.49460283,  8.49901102,\n",
       "          8.51634553,  8.53012369,  8.53284728,  8.53313889,  8.53543247,\n",
       "          8.59778996,  8.63673499,  8.6630024 ,  8.66936234,  8.67639989,\n",
       "          8.69327534,  8.73141022,  8.75161163,  8.76564585,  8.80169526,\n",
       "          8.84073655,  8.84317041,  8.85767671,  8.86702604,  8.87502976,\n",
       "          8.8786863 ,  8.89371588,  8.89792227,  8.90604992,  8.92114106,\n",
       "          8.92382312,  8.92608822,  8.9594597 ,  8.96669036,  8.97725723,\n",
       "          8.98674081,  8.98991144,  9.00109148,  9.00278972,  9.00722271,\n",
       "          9.01148203,  9.01317919,  9.01786729,  9.02030245,  9.0378474 ,\n",
       "          9.0458641 ,  9.0535807 ,  9.05371917,  9.05573936,  9.09730931,\n",
       "          9.09795015,  9.12582885,  9.13249682,  9.14230816,  9.14919825,\n",
       "          9.1585549 ,  9.16097568,  9.17038352,  9.17934421,  9.18566069,\n",
       "          9.19616614,  9.19652915,  9.20367617,  9.2062837 ,  9.2255859 ,\n",
       "          9.22899988,  9.23936825,  9.27040956,  9.2769975 ,  9.28368092,\n",
       "          9.28415403,  9.28827964,  9.29256106,  9.30187234,  9.30567602,\n",
       "          9.30613099,  9.30710287,  9.32068486,  9.33568634,  9.34312611,\n",
       "          9.3433094 ,  9.34340288,  9.3461637 ,  9.3491568 ,  9.36309726,\n",
       "          9.3703982 ,  9.37353999,  9.37796672,  9.37895336,  9.38543222,\n",
       "          9.38660109,  9.38803567,  9.39581158,  9.39635398,  9.40078748,\n",
       "          9.41871346,  9.42207186,  9.42549485,  9.44189294,  9.44864171,\n",
       "          9.46849238,  9.46872021,  9.47953811,  9.48274555,  9.49720564,\n",
       "          9.49940253,  9.50035125,  9.50102445,  9.50841705,  9.51961751,\n",
       "          9.52316122,  9.52780447,  9.53032501,  9.53254125,  9.53495939,\n",
       "          9.55355461,  9.55594369,  9.55886431,  9.57443829,  9.57928018,\n",
       "          9.58275713,  9.59791243,  9.60258874,  9.60855411,  9.6117502 ,\n",
       "          9.61305449,  9.62354094,  9.62357233,  9.6264445 ,  9.62900102,\n",
       "          9.62992292,  9.63114553,  9.63994392,  9.66002003,  9.66011041,\n",
       "          9.66896913,  9.66900875,  9.67129734,  9.67545119,  9.67682647,\n",
       "          9.67797347,  9.68268128,  9.68956521,  9.7034483 ,  9.70365311,\n",
       "          9.70921641,  9.71058384,  9.71367244,  9.71371508,  9.7307819 ,\n",
       "          9.74095792,  9.74871895,  9.75731896,  9.76371491,  9.76390261,\n",
       "          9.76732272,  9.77266865,  9.7776035 ,  9.77816054,  9.78263277,\n",
       "          9.80506944,  9.81290528,  9.83003203,  9.83214151,  9.83629772,\n",
       "          9.84036485,  9.84043491,  9.84216987,  9.858973  ,  9.85930955,\n",
       "          9.86920253,  9.87007413,  9.87130282,  9.87214766,  9.87500825,\n",
       "          9.87758806,  9.87950095,  9.88307288,  9.88945803,  9.89349993,\n",
       "          9.89542381,  9.89688948,  9.90296069,  9.91393843,  9.91470326,\n",
       "          9.92972061,  9.93389749,  9.94051688,  9.95480745,  9.95713579,\n",
       "          9.96259322,  9.96377997,  9.96651819,  9.97555398,  9.98154127,\n",
       "          9.99380375,  9.99780369, 10.00080302, 10.00663072, 10.01001475,\n",
       "         10.01235564, 10.0172082 , 10.01876366, 10.01899894, 10.02095583,\n",
       "         10.02137378, 10.02327153, 10.02923527, 10.03145234, 10.03224832,\n",
       "         10.04178841, 10.04361309, 10.05021017, 10.05685318, 10.06334418,\n",
       "         10.0654166 , 10.06722988, 10.06980096, 10.08757814, 10.0957832 ,\n",
       "         10.09789338, 10.09817192, 10.10513428, 10.10621572, 10.10634972,\n",
       "         10.12122995, 10.12605449, 10.13331125, 10.14780073, 10.15072955,\n",
       "         10.1547249 , 10.15888346, 10.16210986, 10.16641681, 10.16823944,\n",
       "         10.17541549, 10.18734924, 10.20341148, 10.20822191, 10.20885679,\n",
       "         10.21233876, 10.21534143, 10.21668006, 10.21872734, 10.22054023,\n",
       "         10.22600217, 10.22837026, 10.23229539, 10.23303756, 10.2343801 ,\n",
       "         10.23496376, 10.24500045, 10.24748688, 10.25496995, 10.26304049,\n",
       "         10.27264084, 10.27536921, 10.28223372, 10.28328349, 10.28373234,\n",
       "         10.29613811, 10.29772265, 10.30008822, 10.30068873, 10.3015891 ,\n",
       "         10.30965711, 10.30986633, 10.31504918, 10.32101708, 10.32638256,\n",
       "         10.33472212, 10.33636816, 10.33935955, 10.34242615, 10.3507567 ,\n",
       "         10.36396554, 10.36700422, 10.38556525, 10.3906208 , 10.39415098,\n",
       "         10.40015367, 10.40265519, 10.40861977, 10.41043532, 10.42738976,\n",
       "         10.44069264, 10.45039103, 10.45609297, 10.46168244, 10.46405201,\n",
       "         10.46471997, 10.47450742, 10.477698  , 10.48410612, 10.48905105,\n",
       "         10.48933416, 10.4895471 , 10.49052483, 10.4913118 , 10.49360323,\n",
       "         10.4977778 , 10.50065234, 10.52038717, 10.53044694, 10.53084281,\n",
       "         10.53206401, 10.53207532, 10.53329199, 10.53462305, 10.53678514,\n",
       "         10.54779512, 10.54805929, 10.54838808, 10.55405044, 10.55452977,\n",
       "         10.55728412, 10.56001343, 10.56332166, 10.57039884, 10.58437769,\n",
       "         10.59121169, 10.59451199, 10.59968669, 10.60706476, 10.61528498,\n",
       "         10.61531359, 10.62251951, 10.62476783, 10.62637414, 10.62987327,\n",
       "         10.63588305, 10.63649072, 10.64186014, 10.64221428, 10.6478498 ,\n",
       "         10.65096351, 10.65226048, 10.68077642, 10.68143892, 10.68593475,\n",
       "         10.68835647, 10.69209304, 10.69589574, 10.69880037, 10.69906049,\n",
       "         10.70633522, 10.71056644, 10.71161168, 10.7131071 , 10.71419548,\n",
       "         10.71633229, 10.71749361, 10.7213457 , 10.73109235, 10.73156494,\n",
       "         10.73210778, 10.73367154, 10.74314016, 10.74762153, 10.7590643 ,\n",
       "         10.75955393, 10.76955101, 10.78067821, 10.80577795, 10.81412839,\n",
       "         10.83350663, 10.84253862, 10.85027109, 10.85508232, 10.86744889,\n",
       "         10.93278508, 10.9382076 , 10.94320333, 10.94363377, 10.94786466,\n",
       "         10.95590685, 10.95907497, 10.96531771, 10.97254597, 10.98268385,\n",
       "         10.98363484, 10.98649526, 10.99026402, 10.99271079, 10.99356819,\n",
       "         10.99761151, 11.00089279, 11.00426999, 11.00881285, 11.01572972,\n",
       "         11.02454951, 11.05035235, 11.06991674, 11.07083317, 11.07912923,\n",
       "         11.08959712, 11.09399281, 11.09601647, 11.09924163, 11.12236486,\n",
       "         11.13590104, 11.14883261, 11.15825139, 11.17513889, 11.18391882,\n",
       "         11.19575602, 11.23496869, 11.24196358, 11.24365175, 11.24721203,\n",
       "         11.26385501, 11.32687554, 11.39589955, 11.41229617, 11.41893132,\n",
       "         11.4303152 , 11.43540371, 11.43828149, 11.44854348, 11.48346341,\n",
       "         11.49944712, 11.50105535, 11.55520159, 11.56557679, 11.56832076,\n",
       "         11.57588635, 11.57603932, 11.58856217, 11.66673009, 11.69461834,\n",
       "         11.70054985, 11.73205086, 11.75099507, 11.79577571, 11.80645755,\n",
       "         11.84296179, 11.8470306 , 11.85956421, 11.86902158, 11.89256941,\n",
       "         11.89476506, 11.89601571, 11.90611926, 11.91047475, 11.91798559,\n",
       "         11.92955371, 11.9634441 , 11.97029256, 11.98276364, 11.99920556,\n",
       "         12.04898474, 12.05200515, 12.08249262, 12.08847698, 12.10073305,\n",
       "         12.24287466, 12.25477708, 12.25837755, 12.27565779, 12.30156111,\n",
       "         12.36560147, 12.49894343, 12.71738624, 12.77705299, 12.81908709])),\n",
       " (1.0378879950898943, 10.04809264697719, 0.9980761503469279))"
      ]
     },
     "execution_count": 122,
     "metadata": {},
     "output_type": "execute_result"
    },
    {
     "data": {
      "image/png": "[encoded data removed]",
      "text/plain": [
       "<Figure size 432x288 with 1 Axes>"
      ]
     },
     "metadata": {
      "needs_background": "light"
     },
     "output_type": "display_data"
    }
   ],
   "source": [
    "from scipy import stats\n",
    "import matplotlib.pyplot as plt\n",
    "fig = plt.figure()\n",
    "ax1 = fig.add_subplot(211)\n",
    "x = stats.norm.rvs(5, size=500) + 5\n",
    "\n",
    "\n",
    "\n",
    "scipy.stats.probplot(x)\n",
    "\n"
   ]
  },
  {
   "cell_type": "markdown",
   "metadata": {
    "colab_type": "text",
    "id": "2X66iINLvAun"
   },
   "source": [
    "# 11. [BONUS] Calculate Mean Confidence Interval\n",
    "\n",
    "Check following methods:\n",
    "\n",
    "1. scipy.stats.sem\n",
    "2. scipy.stats.t.ppf"
   ]
  },
  {
   "cell_type": "code",
   "execution_count": 125,
   "metadata": {
    "colab": {
     "base_uri": "https://localhost:8080/",
     "height": 34
    },
    "colab_type": "code",
    "executionInfo": {
     "elapsed": 727,
     "status": "ok",
     "timestamp": 1552693467297,
     "user": {
      "displayName": "Ibrahim Faisal",
      "photoUrl": "",
      "userId": "02685917636347920688"
     },
     "user_tz": -660
    },
    "id": "RbRSVOnlmxUC",
    "outputId": "6cca7647-c0cb-4ba6-fc35-8596a2d40591"
   },
   "outputs": [
    {
     "name": "stdout",
     "output_type": "stream",
     "text": [
      "(0, 0, 0)\n"
     ]
    },
    {
     "data": {
      "text/plain": [
       "(19.539561081583383, 41.41281987079756)"
      ]
     },
     "execution_count": 125,
     "metadata": {},
     "output_type": "execute_result"
    }
   ],
   "source": [
    "import numpy as np\n",
    "import scipy.stats\n",
    "\n",
    "\n",
    "def mean_confidence_interval(data, confidence=0.95):\n",
    "    # Calculate m, h\n",
    "    m, se = 0, 0\n",
    "    h = 0\n",
    "    return m, m-h, m+h\n",
    "\n",
    "data = [21,22,23,4,5,6,77,8,9,10,31,32,33,34,35,36,37,18,49,50,100]\n",
    "print(mean_confidence_interval(data))\n",
    "\n",
    "\n",
    "# reference https://www.statology.org/confidence-intervals-python/\n",
    "#The mean confidence interval is calculated for the 95th percent quantile\n",
    "stats.t.interval(alpha=0.95, df=len(data)-1, loc=np.mean(data), scale=stats.sem(data)) "
   ]
  },
  {
   "cell_type": "markdown",
   "metadata": {
    "colab_type": "text",
    "id": "6r9IVMcopfhs"
   },
   "source": [
    "\n",
    "\n",
    "---\n",
    "\n",
    "\n",
    "\n",
    "---\n",
    "\n",
    "\n",
    "\n",
    "> > > > > > > > > © 2019 Institute of Data\n",
    "\n",
    "\n",
    "---\n",
    "\n",
    "\n",
    "\n",
    "---\n",
    "\n",
    "\n",
    "\n"
   ]
  }
 ],
 "metadata": {
  "colab": {
   "collapsed_sections": [],
   "name": "Lab 1.1.4 Statistics - part 2 Lab.ipynb",
   "provenance": [
    {
     "file_id": "https://github.com/ikfaisal/dsia/blob/master/Statistics_part_2.ipynb",
     "timestamp": 1552461263669
    }
   ]
  },
  "kernelspec": {
   "display_name": "Python 3",
   "language": "python",
   "name": "python3"
  },
  "language_info": {
   "codemirror_mode": {
    "name": "ipython",
    "version": 3
   },
   "file_extension": ".py",
   "mimetype": "text/x-python",
   "name": "python",
   "nbconvert_exporter": "python",
   "pygments_lexer": "ipython3",
   "version": "3.7.6"
  }
 },
 "nbformat": 4,
 "nbformat_minor": 1
}
