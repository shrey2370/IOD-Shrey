version https://git-lfs.github.com/spec/v1
oid sha256:d11cd231e6ad139386871f22f701f3ab1bd6ca555561cc407ab1915c861b1942
size 692632
